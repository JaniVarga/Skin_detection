{
  "cells": [
    {
      "cell_type": "markdown",
      "metadata": {
        "id": "view-in-github",
        "colab_type": "text"
      },
      "source": [
        "<a href=\"https://colab.research.google.com/github/JaniVarga/Skin_detection/blob/main/Sematic_Segmentation_lraspp_mobilenet.ipynb\" target=\"_parent\"><img src=\"https://colab.research.google.com/assets/colab-badge.svg\" alt=\"Open In Colab\"/></a>"
      ]
    },
    {
      "cell_type": "code",
      "execution_count": 59,
      "metadata": {
        "id": "_Kt8WNxZq_7g"
      },
      "outputs": [],
      "source": [
        "from torchvision.models import segmentation"
      ]
    },
    {
      "cell_type": "code",
      "execution_count": 60,
      "metadata": {
        "colab": {
          "base_uri": "https://localhost:8080/",
          "height": 36
        },
        "id": "TufEntji_qEL",
        "outputId": "c2462a20-b229-42e5-a8de-04ee73e70333"
      },
      "outputs": [
        {
          "output_type": "execute_result",
          "data": {
            "text/plain": [
              "'cpu'"
            ],
            "application/vnd.google.colaboratory.intrinsic+json": {
              "type": "string"
            }
          },
          "metadata": {},
          "execution_count": 60
        }
      ],
      "source": [
        "import torch\n",
        "\n",
        "device = \"cuda\" if torch.cuda.is_available() else \"cpu\"\n",
        "device"
      ]
    },
    {
      "cell_type": "code",
      "execution_count": 61,
      "metadata": {
        "id": "7uxwELUQr_QP"
      },
      "outputs": [],
      "source": [
        "lraspp_mobilnet_v3_large = segmentation.lraspp_mobilenet_v3_large()"
      ]
    },
    {
      "cell_type": "code",
      "execution_count": 62,
      "metadata": {
        "colab": {
          "base_uri": "https://localhost:8080/"
        },
        "id": "jEWepSCnsbI8",
        "outputId": "88302c5e-3f31-4bdc-914f-c53445f5e11f"
      },
      "outputs": [
        {
          "output_type": "stream",
          "name": "stdout",
          "text": [
            "torchinfo is already installed.\n"
          ]
        }
      ],
      "source": [
        "try:\n",
        "  import torchinfo\n",
        "\n",
        "except:\n",
        "  print(\"Install torchinfo...\")\n",
        "  !pip --quiet install torchinfo\n",
        "  import torchinfo\n",
        "  print(\"Torchinfo is installed and import.\")\n",
        "\n",
        "else:\n",
        "  print(\"torchinfo is already installed.\")"
      ]
    },
    {
      "cell_type": "code",
      "execution_count": 63,
      "metadata": {
        "colab": {
          "base_uri": "https://localhost:8080/"
        },
        "id": "mKc8SsY6uzbB",
        "outputId": "010d1e76-557e-42d5-a695-8a4e9493d6ed"
      },
      "outputs": [
        {
          "output_type": "execute_result",
          "data": {
            "text/plain": [
              "========================================================================================================================\n",
              "Layer (type (var_name))                                      Input Shape          Output Shape         Trainable\n",
              "========================================================================================================================\n",
              "LRASPP (LRASPP)                                              [1, 3, 224, 224]     [1, 21, 224, 224]    True\n",
              "├─IntermediateLayerGetter (backbone)                         [1, 3, 224, 224]     [1, 960, 14, 14]     True\n",
              "│    └─Conv2dNormActivation (0)                              [1, 3, 224, 224]     [1, 16, 112, 112]    True\n",
              "│    │    └─Conv2d (0)                                       [1, 3, 224, 224]     [1, 16, 112, 112]    True\n",
              "│    │    └─BatchNorm2d (1)                                  [1, 16, 112, 112]    [1, 16, 112, 112]    True\n",
              "│    │    └─Hardswish (2)                                    [1, 16, 112, 112]    [1, 16, 112, 112]    --\n",
              "│    └─InvertedResidual (1)                                  [1, 16, 112, 112]    [1, 16, 112, 112]    True\n",
              "│    │    └─Sequential (block)                               [1, 16, 112, 112]    [1, 16, 112, 112]    True\n",
              "│    └─InvertedResidual (2)                                  [1, 16, 112, 112]    [1, 24, 56, 56]      True\n",
              "│    │    └─Sequential (block)                               [1, 16, 112, 112]    [1, 24, 56, 56]      True\n",
              "│    └─InvertedResidual (3)                                  [1, 24, 56, 56]      [1, 24, 56, 56]      True\n",
              "│    │    └─Sequential (block)                               [1, 24, 56, 56]      [1, 24, 56, 56]      True\n",
              "│    └─InvertedResidual (4)                                  [1, 24, 56, 56]      [1, 40, 28, 28]      True\n",
              "│    │    └─Sequential (block)                               [1, 24, 56, 56]      [1, 40, 28, 28]      True\n",
              "│    └─InvertedResidual (5)                                  [1, 40, 28, 28]      [1, 40, 28, 28]      True\n",
              "│    │    └─Sequential (block)                               [1, 40, 28, 28]      [1, 40, 28, 28]      True\n",
              "│    └─InvertedResidual (6)                                  [1, 40, 28, 28]      [1, 40, 28, 28]      True\n",
              "│    │    └─Sequential (block)                               [1, 40, 28, 28]      [1, 40, 28, 28]      True\n",
              "│    └─InvertedResidual (7)                                  [1, 40, 28, 28]      [1, 80, 14, 14]      True\n",
              "│    │    └─Sequential (block)                               [1, 40, 28, 28]      [1, 80, 14, 14]      True\n",
              "│    └─InvertedResidual (8)                                  [1, 80, 14, 14]      [1, 80, 14, 14]      True\n",
              "│    │    └─Sequential (block)                               [1, 80, 14, 14]      [1, 80, 14, 14]      True\n",
              "│    └─InvertedResidual (9)                                  [1, 80, 14, 14]      [1, 80, 14, 14]      True\n",
              "│    │    └─Sequential (block)                               [1, 80, 14, 14]      [1, 80, 14, 14]      True\n",
              "│    └─InvertedResidual (10)                                 [1, 80, 14, 14]      [1, 80, 14, 14]      True\n",
              "│    │    └─Sequential (block)                               [1, 80, 14, 14]      [1, 80, 14, 14]      True\n",
              "│    └─InvertedResidual (11)                                 [1, 80, 14, 14]      [1, 112, 14, 14]     True\n",
              "│    │    └─Sequential (block)                               [1, 80, 14, 14]      [1, 112, 14, 14]     True\n",
              "│    └─InvertedResidual (12)                                 [1, 112, 14, 14]     [1, 112, 14, 14]     True\n",
              "│    │    └─Sequential (block)                               [1, 112, 14, 14]     [1, 112, 14, 14]     True\n",
              "│    └─InvertedResidual (13)                                 [1, 112, 14, 14]     [1, 160, 14, 14]     True\n",
              "│    │    └─Sequential (block)                               [1, 112, 14, 14]     [1, 160, 14, 14]     True\n",
              "│    └─InvertedResidual (14)                                 [1, 160, 14, 14]     [1, 160, 14, 14]     True\n",
              "│    │    └─Sequential (block)                               [1, 160, 14, 14]     [1, 160, 14, 14]     True\n",
              "│    └─InvertedResidual (15)                                 [1, 160, 14, 14]     [1, 160, 14, 14]     True\n",
              "│    │    └─Sequential (block)                               [1, 160, 14, 14]     [1, 160, 14, 14]     True\n",
              "│    └─Conv2dNormActivation (16)                             [1, 160, 14, 14]     [1, 960, 14, 14]     True\n",
              "│    │    └─Conv2d (0)                                       [1, 160, 14, 14]     [1, 960, 14, 14]     True\n",
              "│    │    └─BatchNorm2d (1)                                  [1, 960, 14, 14]     [1, 960, 14, 14]     True\n",
              "│    │    └─Hardswish (2)                                    [1, 960, 14, 14]     [1, 960, 14, 14]     --\n",
              "├─LRASPPHead (classifier)                                    [1, 40, 28, 28]      [1, 21, 28, 28]      True\n",
              "│    └─Sequential (cbr)                                      [1, 960, 14, 14]     [1, 128, 14, 14]     True\n",
              "│    │    └─Conv2d (0)                                       [1, 960, 14, 14]     [1, 128, 14, 14]     True\n",
              "│    │    └─BatchNorm2d (1)                                  [1, 128, 14, 14]     [1, 128, 14, 14]     True\n",
              "│    │    └─ReLU (2)                                         [1, 128, 14, 14]     [1, 128, 14, 14]     --\n",
              "│    └─Sequential (scale)                                    [1, 960, 14, 14]     [1, 128, 1, 1]       True\n",
              "│    │    └─AdaptiveAvgPool2d (0)                            [1, 960, 14, 14]     [1, 960, 1, 1]       --\n",
              "│    │    └─Conv2d (1)                                       [1, 960, 1, 1]       [1, 128, 1, 1]       True\n",
              "│    │    └─Sigmoid (2)                                      [1, 128, 1, 1]       [1, 128, 1, 1]       --\n",
              "│    └─Conv2d (low_classifier)                               [1, 40, 28, 28]      [1, 21, 28, 28]      True\n",
              "│    └─Conv2d (high_classifier)                              [1, 128, 28, 28]     [1, 21, 28, 28]      True\n",
              "========================================================================================================================\n",
              "Total params: 3,221,538\n",
              "Trainable params: 3,221,538\n",
              "Non-trainable params: 0\n",
              "Total mult-adds (M): 379.34\n",
              "========================================================================================================================\n",
              "Input size (MB): 0.60\n",
              "Forward/backward pass size (MB): 85.10\n",
              "Params size (MB): 12.89\n",
              "Estimated Total Size (MB): 98.59\n",
              "========================================================================================================================"
            ]
          },
          "metadata": {},
          "execution_count": 63
        }
      ],
      "source": [
        "torchinfo.summary(model=lraspp_mobilnet_v3_large,\n",
        "                  input_size=(1,3,224,224),\n",
        "                  col_names=[\"input_size\", \"output_size\", \"trainable\"],\n",
        "                  row_settings=[\"var_names\"],\n",
        "                  col_width= 20\n",
        "                  )"
      ]
    },
    {
      "cell_type": "code",
      "execution_count": 64,
      "metadata": {
        "colab": {
          "base_uri": "https://localhost:8080/"
        },
        "id": "e2bKDYq-432L",
        "outputId": "619605f6-15fd-4f0a-bcf6-94269b7f41ac"
      },
      "outputs": [
        {
          "output_type": "execute_result",
          "data": {
            "text/plain": [
              "LRASPPHead(\n",
              "  (cbr): Sequential(\n",
              "    (0): Conv2d(960, 128, kernel_size=(1, 1), stride=(1, 1), bias=False)\n",
              "    (1): BatchNorm2d(128, eps=1e-05, momentum=0.1, affine=True, track_running_stats=True)\n",
              "    (2): ReLU(inplace=True)\n",
              "  )\n",
              "  (scale): Sequential(\n",
              "    (0): AdaptiveAvgPool2d(output_size=1)\n",
              "    (1): Conv2d(960, 128, kernel_size=(1, 1), stride=(1, 1), bias=False)\n",
              "    (2): Sigmoid()\n",
              "  )\n",
              "  (low_classifier): Conv2d(40, 21, kernel_size=(1, 1), stride=(1, 1))\n",
              "  (high_classifier): Conv2d(128, 21, kernel_size=(1, 1), stride=(1, 1))\n",
              ")"
            ]
          },
          "metadata": {},
          "execution_count": 64
        }
      ],
      "source": [
        "lraspp_mobilnet_v3_large.classifier"
      ]
    },
    {
      "cell_type": "code",
      "execution_count": 65,
      "metadata": {
        "id": "e1VJDxfm5Bxw"
      },
      "outputs": [],
      "source": [
        "# https://pytorch.org/vision/2.0/_modules/torchvision/models/segmentation/lraspp.html\n",
        "\n",
        "from typing import Any, Dict, Optional\n",
        "from torch import nn, Tensor\n",
        "from torch.nn import functional as F\n",
        "\n",
        "class new_head(nn.Module):\n",
        "  def __init__(self):\n",
        "    super().__init__()\n",
        "    self.cbr = nn.Sequential(nn.Conv2d(in_channels=960, out_channels=128, kernel_size=1, stride=1, bias=False),\n",
        "                            nn.BatchNorm2d(num_features=128, eps=1e-05, momentum=0.1, affine=True, track_running_stats=True),\n",
        "                            nn.ReLU(inplace=True)\n",
        "                            )\n",
        "    self.scale = nn.Sequential(nn.AdaptiveAvgPool2d(output_size=1),\n",
        "                          nn.Conv2d(in_channels=960, out_channels=128, kernel_size=1, stride=1, bias=False),\n",
        "                          nn.Sigmoid()\n",
        "                          )\n",
        "    self.low_classifier = nn.Conv2d(in_channels=40, out_channels=1, kernel_size=1, stride=1, bias=True)\n",
        "    self.high_classifier = nn.Conv2d(in_channels=128, out_channels=1, kernel_size=1, stride=1, bias=True)\n",
        "\n",
        "  def forward(self, input: Dict[str, Tensor]) -> Tensor:\n",
        "    low = input[\"low\"]\n",
        "    high = input[\"high\"]\n",
        "\n",
        "    x = self.cbr(high)\n",
        "    s = self.scale(high)\n",
        "    x = x * s\n",
        "    x = F.interpolate(x, size=low.shape[-2:], mode=\"bilinear\", align_corners=False)\n",
        "\n",
        "    return self.low_classifier(low) + self.high_classifier(x)"
      ]
    },
    {
      "cell_type": "code",
      "execution_count": 66,
      "metadata": {
        "id": "QJXyecdqDsn2"
      },
      "outputs": [],
      "source": [
        "new_head = new_head()"
      ]
    },
    {
      "cell_type": "code",
      "execution_count": 67,
      "metadata": {
        "id": "XKRb3UozFn9F"
      },
      "outputs": [],
      "source": [
        "lraspp_mobilnet_v3_large.classifier = new_head"
      ]
    },
    {
      "cell_type": "code",
      "execution_count": 68,
      "metadata": {
        "colab": {
          "base_uri": "https://localhost:8080/"
        },
        "id": "MPLhFJxQ_KGh",
        "outputId": "f9989e4f-902d-4477-de35-659fb360353d"
      },
      "outputs": [
        {
          "output_type": "execute_result",
          "data": {
            "text/plain": [
              "========================================================================================================================\n",
              "Layer (type (var_name))                                      Input Shape          Output Shape         Trainable\n",
              "========================================================================================================================\n",
              "LRASPP (LRASPP)                                              [1, 3, 224, 224]     [1, 1, 224, 224]     True\n",
              "├─IntermediateLayerGetter (backbone)                         [1, 3, 224, 224]     [1, 960, 14, 14]     True\n",
              "│    └─Conv2dNormActivation (0)                              [1, 3, 224, 224]     [1, 16, 112, 112]    True\n",
              "│    │    └─Conv2d (0)                                       [1, 3, 224, 224]     [1, 16, 112, 112]    True\n",
              "│    │    └─BatchNorm2d (1)                                  [1, 16, 112, 112]    [1, 16, 112, 112]    True\n",
              "│    │    └─Hardswish (2)                                    [1, 16, 112, 112]    [1, 16, 112, 112]    --\n",
              "│    └─InvertedResidual (1)                                  [1, 16, 112, 112]    [1, 16, 112, 112]    True\n",
              "│    │    └─Sequential (block)                               [1, 16, 112, 112]    [1, 16, 112, 112]    True\n",
              "│    └─InvertedResidual (2)                                  [1, 16, 112, 112]    [1, 24, 56, 56]      True\n",
              "│    │    └─Sequential (block)                               [1, 16, 112, 112]    [1, 24, 56, 56]      True\n",
              "│    └─InvertedResidual (3)                                  [1, 24, 56, 56]      [1, 24, 56, 56]      True\n",
              "│    │    └─Sequential (block)                               [1, 24, 56, 56]      [1, 24, 56, 56]      True\n",
              "│    └─InvertedResidual (4)                                  [1, 24, 56, 56]      [1, 40, 28, 28]      True\n",
              "│    │    └─Sequential (block)                               [1, 24, 56, 56]      [1, 40, 28, 28]      True\n",
              "│    └─InvertedResidual (5)                                  [1, 40, 28, 28]      [1, 40, 28, 28]      True\n",
              "│    │    └─Sequential (block)                               [1, 40, 28, 28]      [1, 40, 28, 28]      True\n",
              "│    └─InvertedResidual (6)                                  [1, 40, 28, 28]      [1, 40, 28, 28]      True\n",
              "│    │    └─Sequential (block)                               [1, 40, 28, 28]      [1, 40, 28, 28]      True\n",
              "│    └─InvertedResidual (7)                                  [1, 40, 28, 28]      [1, 80, 14, 14]      True\n",
              "│    │    └─Sequential (block)                               [1, 40, 28, 28]      [1, 80, 14, 14]      True\n",
              "│    └─InvertedResidual (8)                                  [1, 80, 14, 14]      [1, 80, 14, 14]      True\n",
              "│    │    └─Sequential (block)                               [1, 80, 14, 14]      [1, 80, 14, 14]      True\n",
              "│    └─InvertedResidual (9)                                  [1, 80, 14, 14]      [1, 80, 14, 14]      True\n",
              "│    │    └─Sequential (block)                               [1, 80, 14, 14]      [1, 80, 14, 14]      True\n",
              "│    └─InvertedResidual (10)                                 [1, 80, 14, 14]      [1, 80, 14, 14]      True\n",
              "│    │    └─Sequential (block)                               [1, 80, 14, 14]      [1, 80, 14, 14]      True\n",
              "│    └─InvertedResidual (11)                                 [1, 80, 14, 14]      [1, 112, 14, 14]     True\n",
              "│    │    └─Sequential (block)                               [1, 80, 14, 14]      [1, 112, 14, 14]     True\n",
              "│    └─InvertedResidual (12)                                 [1, 112, 14, 14]     [1, 112, 14, 14]     True\n",
              "│    │    └─Sequential (block)                               [1, 112, 14, 14]     [1, 112, 14, 14]     True\n",
              "│    └─InvertedResidual (13)                                 [1, 112, 14, 14]     [1, 160, 14, 14]     True\n",
              "│    │    └─Sequential (block)                               [1, 112, 14, 14]     [1, 160, 14, 14]     True\n",
              "│    └─InvertedResidual (14)                                 [1, 160, 14, 14]     [1, 160, 14, 14]     True\n",
              "│    │    └─Sequential (block)                               [1, 160, 14, 14]     [1, 160, 14, 14]     True\n",
              "│    └─InvertedResidual (15)                                 [1, 160, 14, 14]     [1, 160, 14, 14]     True\n",
              "│    │    └─Sequential (block)                               [1, 160, 14, 14]     [1, 160, 14, 14]     True\n",
              "│    └─Conv2dNormActivation (16)                             [1, 160, 14, 14]     [1, 960, 14, 14]     True\n",
              "│    │    └─Conv2d (0)                                       [1, 160, 14, 14]     [1, 960, 14, 14]     True\n",
              "│    │    └─BatchNorm2d (1)                                  [1, 960, 14, 14]     [1, 960, 14, 14]     True\n",
              "│    │    └─Hardswish (2)                                    [1, 960, 14, 14]     [1, 960, 14, 14]     --\n",
              "├─new_head (classifier)                                      [1, 40, 28, 28]      [1, 1, 28, 28]       True\n",
              "│    └─Sequential (cbr)                                      [1, 960, 14, 14]     [1, 128, 14, 14]     True\n",
              "│    │    └─Conv2d (0)                                       [1, 960, 14, 14]     [1, 128, 14, 14]     True\n",
              "│    │    └─BatchNorm2d (1)                                  [1, 128, 14, 14]     [1, 128, 14, 14]     True\n",
              "│    │    └─ReLU (2)                                         [1, 128, 14, 14]     [1, 128, 14, 14]     --\n",
              "│    └─Sequential (scale)                                    [1, 960, 14, 14]     [1, 128, 1, 1]       True\n",
              "│    │    └─AdaptiveAvgPool2d (0)                            [1, 960, 14, 14]     [1, 960, 1, 1]       --\n",
              "│    │    └─Conv2d (1)                                       [1, 960, 1, 1]       [1, 128, 1, 1]       True\n",
              "│    │    └─Sigmoid (2)                                      [1, 128, 1, 1]       [1, 128, 1, 1]       --\n",
              "│    └─Conv2d (low_classifier)                               [1, 40, 28, 28]      [1, 1, 28, 28]       True\n",
              "│    └─Conv2d (high_classifier)                              [1, 128, 28, 28]     [1, 1, 28, 28]       True\n",
              "========================================================================================================================\n",
              "Total params: 3,218,138\n",
              "Trainable params: 3,218,138\n",
              "Non-trainable params: 0\n",
              "Total mult-adds (M): 376.68\n",
              "========================================================================================================================\n",
              "Input size (MB): 0.60\n",
              "Forward/backward pass size (MB): 84.85\n",
              "Params size (MB): 12.87\n",
              "Estimated Total Size (MB): 98.33\n",
              "========================================================================================================================"
            ]
          },
          "metadata": {},
          "execution_count": 68
        }
      ],
      "source": [
        "torchinfo.summary(model=lraspp_mobilnet_v3_large,\n",
        "                  input_size=(1,3,224,224),\n",
        "                  col_names=[\"input_size\", \"output_size\", \"trainable\"],\n",
        "                  row_settings=[\"var_names\"],\n",
        "                  col_width= 20\n",
        "                  )"
      ]
    },
    {
      "cell_type": "code",
      "source": [
        "lraspp_mobilnet_v3_large.backbone[\"0\"]"
      ],
      "metadata": {
        "colab": {
          "base_uri": "https://localhost:8080/"
        },
        "id": "PSsF63eySyIC",
        "outputId": "1e8b2927-40af-44d6-8977-f38d11b1063b"
      },
      "execution_count": 69,
      "outputs": [
        {
          "output_type": "execute_result",
          "data": {
            "text/plain": [
              "Conv2dNormActivation(\n",
              "  (0): Conv2d(3, 16, kernel_size=(3, 3), stride=(2, 2), padding=(1, 1), bias=False)\n",
              "  (1): BatchNorm2d(16, eps=0.001, momentum=0.01, affine=True, track_running_stats=True)\n",
              "  (2): Hardswish()\n",
              ")"
            ]
          },
          "metadata": {},
          "execution_count": 69
        }
      ]
    },
    {
      "cell_type": "code",
      "execution_count": 70,
      "metadata": {
        "colab": {
          "base_uri": "https://localhost:8080/",
          "height": 70
        },
        "id": "7Aee8cY8a5G3",
        "outputId": "88c16fdd-bde4-41d9-df38-94651f6f48ce"
      },
      "outputs": [
        {
          "output_type": "execute_result",
          "data": {
            "text/plain": [
              "'Accepts ``PIL.Image``, batched ``(B, C, H, W)`` and single ``(C, H, W)`` image ``torch.Tensor`` objects. The images are resized to ``resize_size=[520]`` using ``interpolation=InterpolationMode.BILINEAR``. Finally the values are first rescaled to ``[0.0, 1.0]`` and then normalized using ``mean=[0.485, 0.456, 0.406]`` and ``std=[0.229, 0.224, 0.225]``.'"
            ],
            "application/vnd.google.colaboratory.intrinsic+json": {
              "type": "string"
            }
          },
          "metadata": {},
          "execution_count": 70
        }
      ],
      "source": [
        "weights = segmentation.LRASPP_MobileNet_V3_Large_Weights.DEFAULT\n",
        "auto_transform = weights.transforms()\n",
        "auto_transform.describe()"
      ]
    },
    {
      "cell_type": "code",
      "execution_count": 71,
      "metadata": {
        "colab": {
          "base_uri": "https://localhost:8080/"
        },
        "id": "qmS4ziTqb59i",
        "outputId": "78b701bb-9ff6-43cd-deec-65ff0c0acb19"
      },
      "outputs": [
        {
          "output_type": "execute_result",
          "data": {
            "text/plain": [
              "Compose(\n",
              "      ToImage()\n",
              "      Resize(size=[224, 224], interpolation=InterpolationMode.BILINEAR, antialias=True)\n",
              "      ToDtype(scale=True)\n",
              "      Normalize(mean=[0.485, 0.456, 0.406], std=[0.229, 0.224, 0.225], inplace=False)\n",
              ")"
            ]
          },
          "metadata": {},
          "execution_count": 71
        }
      ],
      "source": [
        "from torchvision.transforms import v2\n",
        "import torch\n",
        "\n",
        "my_transform = v2.Compose([\n",
        "      v2.ToImage(),\n",
        "      v2.Resize(size=(224,224)),\n",
        "      v2.ToDtype(torch.float32, scale=True),\n",
        "      v2.Normalize(mean=[0.485, 0.456, 0.406], std=[0.229, 0.224, 0.225])\n",
        "    ])\n",
        "\n",
        "my_transform"
      ]
    },
    {
      "cell_type": "code",
      "execution_count": 72,
      "metadata": {
        "id": "n2YSmVIDWYEu"
      },
      "outputs": [],
      "source": [
        "from pathlib import Path\n",
        "\n",
        "zip_file_path = Path(\"/content/dataset.zip\")\n",
        "root_path = Path(\"/content\")"
      ]
    },
    {
      "cell_type": "code",
      "execution_count": 73,
      "metadata": {
        "colab": {
          "base_uri": "https://localhost:8080/"
        },
        "id": "SanRrrNcVa35",
        "outputId": "1b5fb98d-ec01-4853-8a85-c4a38f90a423"
      },
      "outputs": [
        {
          "output_type": "stream",
          "name": "stdout",
          "text": [
            "File not found.\n"
          ]
        }
      ],
      "source": [
        "from zipfile import ZipFile\n",
        "\n",
        "try:\n",
        "  with ZipFile(file=zip_file_path) as zip_file:\n",
        "      zip_file.extractall(path=root_path)\n",
        "      print(\"File extracted.\")\n",
        "\n",
        "except FileNotFoundError:\n",
        "  print(\"File not found.\")"
      ]
    },
    {
      "cell_type": "code",
      "execution_count": 74,
      "metadata": {
        "colab": {
          "base_uri": "https://localhost:8080/"
        },
        "id": "LBcjKLOldeYt",
        "outputId": "78a57856-0acb-4755-a298-9a2975025806"
      },
      "outputs": [
        {
          "output_type": "stream",
          "name": "stdout",
          "text": [
            "File not found.\n"
          ]
        }
      ],
      "source": [
        "try:\n",
        "  zip_file_path.unlink()\n",
        "  print(\"File deleted.\")\n",
        "\n",
        "except FileNotFoundError:\n",
        "  print(\"File not found.\")"
      ]
    },
    {
      "cell_type": "code",
      "execution_count": 75,
      "metadata": {
        "id": "FOzCUraxfZaY"
      },
      "outputs": [],
      "source": [
        "train_root_path = root_path / \"dataset\" / \"train\"\n",
        "val_root_path = root_path / \"dataset\" / \"val\""
      ]
    },
    {
      "cell_type": "code",
      "execution_count": 76,
      "metadata": {
        "colab": {
          "base_uri": "https://localhost:8080/"
        },
        "id": "wRUd44grfnWg",
        "outputId": "b6770d1b-3a6d-4f90-9e32-d94bc13eb59c"
      },
      "outputs": [
        {
          "output_type": "execute_result",
          "data": {
            "text/plain": [
              "(PosixPath('/content/dataset/train'), PosixPath('/content/dataset/val'))"
            ]
          },
          "metadata": {},
          "execution_count": 76
        }
      ],
      "source": [
        "train_root_path, val_root_path"
      ]
    },
    {
      "cell_type": "code",
      "execution_count": 77,
      "metadata": {
        "id": "4h9P1dRV3C5v"
      },
      "outputs": [],
      "source": [
        "from torch.utils.data import Dataset\n",
        "from glob import glob\n",
        "from PIL import Image\n",
        "\n",
        "class CustomDataset(Dataset):\n",
        "  def __init__(self, root_dir: str, transform=None):\n",
        "    self.root_dir = root_dir\n",
        "    self.transform = transform\n",
        "    self.images = sorted(glob(f\"{root_dir}/images/*.*\"))\n",
        "    self.masks = sorted(glob(f\"{root_dir}/masks/*.*\"))\n",
        "\n",
        "  def __len__(self):\n",
        "    return len(self.images)\n",
        "\n",
        "  def __getitem__(self, idx):\n",
        "    image = Image.open(self.images[idx])\n",
        "    mask = Image.open(self.masks[idx])\n",
        "\n",
        "    mask_transform = v2.Compose([\n",
        "          v2.ToImage(),\n",
        "          v2.Resize(size=(224,224))])\n",
        "\n",
        "\n",
        "    if self.transform:\n",
        "      image = self.transform(image)\n",
        "      mask = mask_transform(mask)\n",
        "\n",
        "\n",
        "    return image, mask"
      ]
    },
    {
      "cell_type": "code",
      "execution_count": 78,
      "metadata": {
        "colab": {
          "base_uri": "https://localhost:8080/"
        },
        "id": "7WB0OIBBiR6D",
        "outputId": "a296f21a-2a4d-4e41-bbeb-10f3ebe07683"
      },
      "outputs": [
        {
          "output_type": "execute_result",
          "data": {
            "text/plain": [
              "(<__main__.CustomDataset at 0x7946f3b567d0>,\n",
              " <__main__.CustomDataset at 0x7946f3b55f00>)"
            ]
          },
          "metadata": {},
          "execution_count": 78
        }
      ],
      "source": [
        "train_dataset = CustomDataset(root_dir=train_root_path, transform=my_transform)\n",
        "val_dataset = CustomDataset(root_dir=val_root_path, transform=my_transform)\n",
        "train_dataset, val_dataset"
      ]
    },
    {
      "cell_type": "code",
      "execution_count": 79,
      "metadata": {
        "id": "-1SdKyq_tiqr"
      },
      "outputs": [],
      "source": [
        "img, mask = train_dataset.__getitem__(0)"
      ]
    },
    {
      "cell_type": "code",
      "execution_count": 80,
      "metadata": {
        "colab": {
          "base_uri": "https://localhost:8080/",
          "height": 452
        },
        "id": "FEvtQNnXtvpi",
        "outputId": "d1b9a288-4171-41c8-c02d-02b89d4d6314"
      },
      "outputs": [
        {
          "output_type": "stream",
          "name": "stderr",
          "text": [
            "WARNING:matplotlib.image:Clipping input data to the valid range for imshow with RGB data ([0..1] for floats or [0..255] for integers).\n"
          ]
        },
        {
          "output_type": "execute_result",
          "data": {
            "text/plain": [
              "<matplotlib.image.AxesImage at 0x7946f3b30490>"
            ]
          },
          "metadata": {},
          "execution_count": 80
        },
        {
          "output_type": "display_data",
          "data": {
            "text/plain": [
              "<Figure size 1000x500 with 2 Axes>"
            ],
            "image/png": "[encoded data removed]"
          },
          "metadata": {}
        }
      ],
      "source": [
        "import matplotlib.pyplot as plt\n",
        "fig, ax = plt.subplots(1,2, figsize=(10,5))\n",
        "\n",
        "ax[0].imshow(img.permute(1,2,0))\n",
        "ax[1].imshow(mask.permute(1,2,0), cmap=\"gray\")"
      ]
    },
    {
      "cell_type": "code",
      "execution_count": 81,
      "metadata": {
        "colab": {
          "base_uri": "https://localhost:8080/"
        },
        "id": "rhldJIfeiwyI",
        "outputId": "83f85870-5378-4461-96ab-5f81a04cf287"
      },
      "outputs": [
        {
          "output_type": "execute_result",
          "data": {
            "text/plain": [
              "(<torch.utils.data.dataloader.DataLoader at 0x7946f3b32bc0>,\n",
              " <torch.utils.data.dataloader.DataLoader at 0x7946f3b55060>)"
            ]
          },
          "metadata": {},
          "execution_count": 81
        }
      ],
      "source": [
        "from torch.utils.data import DataLoader\n",
        "\n",
        "train_dataloader = DataLoader(dataset=train_dataset, batch_size=16, shuffle=True)\n",
        "val_dataloader = DataLoader(dataset=val_dataset, batch_size=16, shuffle=False)\n",
        "train_dataloader, val_dataloader"
      ]
    },
    {
      "cell_type": "code",
      "execution_count": 82,
      "metadata": {
        "id": "Y0AQX-DHDyEz"
      },
      "outputs": [],
      "source": [
        "# def dice_coefficient(prediction, target, epsilon=1e-07):\n",
        "#     prediction_copy = prediction.clone()\n",
        "\n",
        "#     prediction_copy[prediction_copy < 0] = 0\n",
        "#     prediction_copy[prediction_copy > 0] = 1\n",
        "\n",
        "#     intersection = abs(torch.sum(prediction_copy * target))\n",
        "#     union = abs(torch.sum(prediction_copy) + torch.sum(target))\n",
        "#     dice = (2. * intersection + epsilon) / (union + epsilon)\n",
        "\n",
        "#     return dice"
      ]
    },
    {
      "cell_type": "code",
      "source": [
        "# https://smp.readthedocs.io/en/latest/_modules/segmentation_models_pytorch/losses/mcc.html#MCCLoss\n",
        "\n",
        "import torch\n",
        "from torch.nn.modules.loss import _Loss\n",
        "\n",
        "class MCCLoss(_Loss):\n",
        "    def __init__(self, eps: float = 1e-5):\n",
        "        \"\"\"Compute Matthews Correlation Coefficient Loss for image segmentation task.\n",
        "        It only supports binary mode.\n",
        "\n",
        "        Args:\n",
        "            eps (float): Small epsilon to handle situations where all the samples in the dataset belong to one class\n",
        "\n",
        "        Reference:\n",
        "            https://github.com/kakumarabhishek/MCC-Loss\n",
        "        \"\"\"\n",
        "        super().__init__()\n",
        "        self.eps = eps\n",
        "\n",
        "    def forward(self, y_pred: torch.Tensor, y_true: torch.Tensor) -> torch.Tensor:\n",
        "        \"\"\"Compute MCC loss\n",
        "\n",
        "        Args:\n",
        "            y_pred (torch.Tensor): model prediction of shape (N, H, W) or (N, 1, H, W)\n",
        "            y_true (torch.Tensor): ground truth labels of shape (N, H, W) or (N, 1, H, W)\n",
        "\n",
        "        Returns:\n",
        "            torch.Tensor: loss value (1 - mcc)\n",
        "        \"\"\"\n",
        "\n",
        "        bs = y_true.shape[0]\n",
        "\n",
        "        y_true = y_true.view(bs, 1, -1)\n",
        "        y_pred = y_pred.view(bs, 1, -1)\n",
        "\n",
        "        tp = torch.sum(torch.mul(y_pred, y_true)) + self.eps\n",
        "        tn = torch.sum(torch.mul((1 - y_pred), (1 - y_true))) + self.eps\n",
        "        fp = torch.sum(torch.mul(y_pred, (1 - y_true))) + self.eps\n",
        "        fn = torch.sum(torch.mul((1 - y_pred), y_true)) + self.eps\n",
        "\n",
        "        numerator = torch.mul(tp, tn) - torch.mul(fp, fn)\n",
        "        denominator = torch.sqrt(\n",
        "            torch.add(tp, fp)\n",
        "            * torch.add(tp, fn)\n",
        "            * torch.add(tn, fp)\n",
        "            * torch.add(tn, fn)\n",
        "        )\n",
        "\n",
        "        mcc = torch.div(numerator.sum(), denominator.sum())\n",
        "        loss = 1.0 - mcc\n",
        "\n",
        "        return loss"
      ],
      "metadata": {
        "id": "XYBtDomWocZu"
      },
      "execution_count": 83,
      "outputs": []
    },
    {
      "cell_type": "code",
      "source": [
        "try:\n",
        "  import segmentation_models_pytorch as smp\n",
        "except:\n",
        "  print(\"Install segmentation_models_pytorch...\")\n",
        "  !pip --quiet install segmentation_models_pytorch\n",
        "  import segmentation_models_pytorch as smp\n",
        "  print(\"segmentation_models_pytorch is installed and import.\")\n",
        "else:\n",
        "  print(\"segmentation_models_pytorch is already installed.\")"
      ],
      "metadata": {
        "colab": {
          "base_uri": "https://localhost:8080/"
        },
        "id": "wlsrR-7D2-jA",
        "outputId": "646fc83d-fa2b-4e5b-b390-1621a47a9018"
      },
      "execution_count": 84,
      "outputs": [
        {
          "output_type": "stream",
          "name": "stdout",
          "text": [
            "segmentation_models_pytorch is already installed.\n"
          ]
        }
      ]
    },
    {
      "cell_type": "code",
      "execution_count": 85,
      "metadata": {
        "id": "TGLDkinntdas"
      },
      "outputs": [],
      "source": [
        "# https://smp.readthedocs.io/en/latest/losses.html\n",
        "\n",
        "\n",
        "# optimizer = torch.optim.Adam(params=lraspp_mobilnet_v3_large.parameters(),\n",
        "#                              lr=0.001)\n",
        "\n",
        "loss_bce = nn.BCEWithLogitsLoss()\n",
        "loss_mcc = MCCLoss()\n",
        "loss_dice = smp.losses.DiceLoss(mode=\"binary\", from_logits=True)"
      ]
    },
    {
      "cell_type": "code",
      "execution_count": 86,
      "metadata": {
        "id": "9ve_cg13_u1b"
      },
      "outputs": [],
      "source": [
        "import numpy as np\n",
        "\n",
        "np.random.seed(42)\n",
        "torch.manual_seed(42)\n",
        "model_1 = lraspp_mobilnet_v3_large.to(device)"
      ]
    },
    {
      "cell_type": "code",
      "source": [
        "from tqdm import tqdm\n",
        "\n",
        "def train_model(name,\n",
        "                loss_fn,\n",
        "                model,\n",
        "                optimizer,\n",
        "                train_dataloader= train_dataloader,\n",
        "                val_dataloader= val_dataloader,\n",
        "                epochs=5):\n",
        "\n",
        "  train_losses = []\n",
        "  train_dcs = []\n",
        "  val_losses = []\n",
        "  val_dcs = []\n",
        "\n",
        "  print(f\"Start model training, loss_{name}\")\n",
        "\n",
        "  for epoch in tqdm(range(epochs)):\n",
        "    model.train()\n",
        "    train_running_loss = 0\n",
        "    train_running_dc = 0\n",
        "\n",
        "    for idx, img_mask in enumerate(tqdm(train_dataloader, position=0, leave=True)):\n",
        "        img = img_mask[0].float().to(device)\n",
        "        mask = img_mask[1].float().to(device)\n",
        "\n",
        "        y_pred = model(img)[\"out\"]\n",
        "\n",
        "        if name == \"mcc\":\n",
        "          y_pred = torch.sigmoid(y_pred)\n",
        "        else:\n",
        "          pass\n",
        "\n",
        "        optimizer.zero_grad()\n",
        "        # print(f\"\\n\\n\\nY_pred shape: {y_pred.shape}\")\n",
        "        # print(f\"Mask shape: {mask.shape}\\n\\n\\n\")\n",
        "\n",
        "        # dc = dice_coefficient(y_pred, mask)\n",
        "        loss = loss_fn(y_pred, mask)\n",
        "\n",
        "        train_running_loss += loss.item()\n",
        "        # train_running_dc += dc.item()\n",
        "\n",
        "        loss.backward()\n",
        "        optimizer.step()\n",
        "\n",
        "    train_loss = train_running_loss / (idx + 1)\n",
        "    train_dc = train_running_dc / (idx + 1)\n",
        "\n",
        "    train_losses.append(train_loss)\n",
        "    train_dcs.append(train_dc)\n",
        "\n",
        "    model.eval()\n",
        "    val_running_loss = 0\n",
        "    val_running_dc = 0\n",
        "\n",
        "    with torch.no_grad():\n",
        "        for idx, img_mask in enumerate(tqdm(val_dataloader, position=0, leave=True)):\n",
        "            img = img_mask[0].float().to(device)\n",
        "            mask = img_mask[1].float().to(device)\n",
        "\n",
        "            y_pred = model(img)[\"out\"]\n",
        "            if name == \"mcc\":\n",
        "              y_pred = torch.sigmoid(y_pred)\n",
        "            else:\n",
        "              pass\n",
        "\n",
        "            loss = loss_fn(y_pred, mask)\n",
        "            # dc = dice_coefficient(y_pred, mask)\n",
        "\n",
        "            val_running_loss += loss.item()\n",
        "            # val_running_dc += dc.item()\n",
        "\n",
        "        val_loss = val_running_loss / (idx + 1)\n",
        "        # val_dc = val_running_dc / (idx + 1)\n",
        "\n",
        "    val_losses.append(val_loss)\n",
        "    # val_dcs.append(val_dc)\n",
        "    print(\"\\n\")\n",
        "    print(\"-\" * 30)\n",
        "    print(f\"Training {name} EPOCH {epoch + 1}: {train_loss:.4f}\")\n",
        "    # print(f\"Training DICE EPOCH {epoch + 1}: {train_dc:.4f}\")\n",
        "    print(f\"Validation {name} EPOCH {epoch + 1}: {val_loss:.4f}\")\n",
        "    # print(f\"Validation DICE EPOCH {epoch + 1}: {val_dc:.4f}\")\n",
        "\n",
        "\n",
        "    # Saving the best model\n",
        "    if val_loss == min(val_losses):\n",
        "        print(\"Saving the model...\")\n",
        "        torch.save(model.state_dict(), f'my_best_checkpoint_{name}.pth')\n",
        "    print(\"-\" * 30)\n",
        "\n",
        "  return train_losses, val_losses"
      ],
      "metadata": {
        "id": "ltXZKhDEQ4Ue"
      },
      "execution_count": 87,
      "outputs": []
    },
    {
      "cell_type": "code",
      "source": [
        "optimizer_1 = torch.optim.Adam(params=model_1.parameters(),\n",
        "                             lr=0.001)\n",
        "\n",
        "mcc_train_losses, mcc_val_losses = train_model(\"mcc\", loss_mcc, model_1, optimizer_1)"
      ],
      "metadata": {
        "colab": {
          "base_uri": "https://localhost:8080/"
        },
        "id": "IP2MrO9sVmOU",
        "outputId": "d2945dfe-e265-400c-f895-c56e9e7a753f"
      },
      "execution_count": 88,
      "outputs": [
        {
          "output_type": "stream",
          "name": "stdout",
          "text": [
            "Start model training, loss_mcc\n"
          ]
        },
        {
          "output_type": "stream",
          "name": "stderr",
          "text": [
            "100%|██████████| 195/195 [10:46<00:00,  3.31s/it]\n",
            "100%|██████████| 50/50 [00:36<00:00,  1.39it/s]\n",
            " 20%|██        | 1/5 [11:22<45:28, 682.09s/it]"
          ]
        },
        {
          "output_type": "stream",
          "name": "stdout",
          "text": [
            "\n",
            "\n",
            "------------------------------\n",
            "Training mcc EPOCH 1: 0.2387\n",
            "Validation mcc EPOCH 1: 0.1480\n",
            "Saving the model...\n",
            "------------------------------\n"
          ]
        },
        {
          "output_type": "stream",
          "name": "stderr",
          "text": [
            "100%|██████████| 195/195 [10:38<00:00,  3.28s/it]\n",
            "100%|██████████| 50/50 [00:37<00:00,  1.33it/s]\n",
            " 40%|████      | 2/5 [22:38<33:56, 678.68s/it]"
          ]
        },
        {
          "output_type": "stream",
          "name": "stdout",
          "text": [
            "\n",
            "\n",
            "------------------------------\n",
            "Training mcc EPOCH 2: 0.1299\n",
            "Validation mcc EPOCH 2: 0.1278\n",
            "Saving the model...\n",
            "------------------------------\n"
          ]
        },
        {
          "output_type": "stream",
          "name": "stderr",
          "text": [
            "100%|██████████| 195/195 [10:41<00:00,  3.29s/it]\n",
            "100%|██████████| 50/50 [00:35<00:00,  1.40it/s]\n",
            " 60%|██████    | 3/5 [33:55<22:35, 678.00s/it]"
          ]
        },
        {
          "output_type": "stream",
          "name": "stdout",
          "text": [
            "\n",
            "\n",
            "------------------------------\n",
            "Training mcc EPOCH 3: 0.1140\n",
            "Validation mcc EPOCH 3: 0.1133\n",
            "Saving the model...\n",
            "------------------------------\n"
          ]
        },
        {
          "output_type": "stream",
          "name": "stderr",
          "text": [
            "100%|██████████| 195/195 [10:32<00:00,  3.24s/it]\n",
            "100%|██████████| 50/50 [00:36<00:00,  1.38it/s]\n",
            " 80%|████████  | 4/5 [45:04<11:14, 674.37s/it]"
          ]
        },
        {
          "output_type": "stream",
          "name": "stdout",
          "text": [
            "\n",
            "\n",
            "------------------------------\n",
            "Training mcc EPOCH 4: 0.0988\n",
            "Validation mcc EPOCH 4: 0.1136\n",
            "------------------------------\n"
          ]
        },
        {
          "output_type": "stream",
          "name": "stderr",
          "text": [
            "100%|██████████| 195/195 [10:36<00:00,  3.26s/it]\n",
            "100%|██████████| 50/50 [00:38<00:00,  1.30it/s]\n",
            "100%|██████████| 5/5 [56:19<00:00, 675.84s/it]"
          ]
        },
        {
          "output_type": "stream",
          "name": "stdout",
          "text": [
            "\n",
            "\n",
            "------------------------------\n",
            "Training mcc EPOCH 5: 0.0933\n",
            "Validation mcc EPOCH 5: 0.1080\n",
            "Saving the model...\n",
            "------------------------------\n"
          ]
        },
        {
          "output_type": "stream",
          "name": "stderr",
          "text": [
            "\n"
          ]
        }
      ]
    },
    {
      "cell_type": "code",
      "source": [
        "lraspp_mobilnet_v3_large = segmentation.lraspp_mobilenet_v3_large()\n",
        "lraspp_mobilnet_v3_large.classifier = new_head\n",
        "\n",
        "model_2 = lraspp_mobilnet_v3_large.to(device)\n",
        "optimizer_2 = torch.optim.Adam(params=model_2.parameters(),\n",
        "                             lr=0.001)\n",
        "dice_train_losses,  dice_val_losses = train_model(\"dice\", loss_dice, model_2, optimizer_2)"
      ],
      "metadata": {
        "colab": {
          "base_uri": "https://localhost:8080/"
        },
        "id": "qZoGUvbm57hP",
        "outputId": "f2edb761-f26e-4b75-e8fb-6a987e8e6bb1"
      },
      "execution_count": 89,
      "outputs": [
        {
          "output_type": "stream",
          "name": "stdout",
          "text": [
            "Start model training, loss_dice\n"
          ]
        },
        {
          "output_type": "stream",
          "name": "stderr",
          "text": [
            "100%|██████████| 195/195 [10:46<00:00,  3.31s/it]\n",
            "100%|██████████| 50/50 [00:36<00:00,  1.38it/s]\n",
            " 20%|██        | 1/5 [11:22<45:30, 682.56s/it]"
          ]
        },
        {
          "output_type": "stream",
          "name": "stdout",
          "text": [
            "\n",
            "\n",
            "------------------------------\n",
            "Training dice EPOCH 1: 0.1403\n",
            "Validation dice EPOCH 1: 0.1096\n",
            "Saving the model...\n",
            "------------------------------\n"
          ]
        },
        {
          "output_type": "stream",
          "name": "stderr",
          "text": [
            "100%|██████████| 195/195 [10:36<00:00,  3.27s/it]\n",
            "100%|██████████| 50/50 [00:36<00:00,  1.37it/s]\n",
            " 40%|████      | 2/5 [22:36<33:51, 677.32s/it]"
          ]
        },
        {
          "output_type": "stream",
          "name": "stdout",
          "text": [
            "\n",
            "\n",
            "------------------------------\n",
            "Training dice EPOCH 2: 0.0941\n",
            "Validation dice EPOCH 2: 0.0889\n",
            "Saving the model...\n",
            "------------------------------\n"
          ]
        },
        {
          "output_type": "stream",
          "name": "stderr",
          "text": [
            "100%|██████████| 195/195 [10:38<00:00,  3.27s/it]\n",
            "100%|██████████| 50/50 [00:36<00:00,  1.35it/s]\n",
            " 60%|██████    | 3/5 [33:51<22:32, 676.47s/it]"
          ]
        },
        {
          "output_type": "stream",
          "name": "stdout",
          "text": [
            "\n",
            "\n",
            "------------------------------\n",
            "Training dice EPOCH 3: 0.0839\n",
            "Validation dice EPOCH 3: 0.0809\n",
            "Saving the model...\n",
            "------------------------------\n"
          ]
        },
        {
          "output_type": "stream",
          "name": "stderr",
          "text": [
            "100%|██████████| 195/195 [10:44<00:00,  3.31s/it]\n",
            "100%|██████████| 50/50 [00:36<00:00,  1.36it/s]\n",
            " 80%|████████  | 4/5 [45:13<11:18, 678.48s/it]"
          ]
        },
        {
          "output_type": "stream",
          "name": "stdout",
          "text": [
            "\n",
            "\n",
            "------------------------------\n",
            "Training dice EPOCH 4: 0.0771\n",
            "Validation dice EPOCH 4: 0.0819\n",
            "------------------------------\n"
          ]
        },
        {
          "output_type": "stream",
          "name": "stderr",
          "text": [
            "100%|██████████| 195/195 [10:45<00:00,  3.31s/it]\n",
            "100%|██████████| 50/50 [00:35<00:00,  1.39it/s]\n",
            "100%|██████████| 5/5 [56:34<00:00, 678.89s/it]"
          ]
        },
        {
          "output_type": "stream",
          "name": "stdout",
          "text": [
            "\n",
            "\n",
            "------------------------------\n",
            "Training dice EPOCH 5: 0.0759\n",
            "Validation dice EPOCH 5: 0.0760\n",
            "Saving the model...\n",
            "------------------------------\n"
          ]
        },
        {
          "output_type": "stream",
          "name": "stderr",
          "text": [
            "\n"
          ]
        }
      ]
    },
    {
      "cell_type": "code",
      "source": [
        "lraspp_mobilnet_v3_large = segmentation.lraspp_mobilenet_v3_large()\n",
        "lraspp_mobilnet_v3_large.classifier = new_head\n",
        "\n",
        "model_3 = lraspp_mobilnet_v3_large.to(device)\n",
        "optimizer_3 = torch.optim.Adam(params=model_3.parameters(),\n",
        "                             lr=0.001)\n",
        "bce_train_losses,  bce_val_losses = train_model(\"bce\", loss_bce, model_3, optimizer_3)"
      ],
      "metadata": {
        "colab": {
          "base_uri": "https://localhost:8080/"
        },
        "id": "AW1vBhvPIAMQ",
        "outputId": "f880785f-5bd0-4ed9-9233-fe912ba23cf5"
      },
      "execution_count": 90,
      "outputs": [
        {
          "output_type": "stream",
          "name": "stdout",
          "text": [
            "Start model training, loss_bce\n"
          ]
        },
        {
          "output_type": "stream",
          "name": "stderr",
          "text": [
            "100%|██████████| 195/195 [11:10<00:00,  3.44s/it]\n",
            "100%|██████████| 50/50 [00:37<00:00,  1.35it/s]\n",
            " 20%|██        | 1/5 [11:48<47:12, 708.06s/it]"
          ]
        },
        {
          "output_type": "stream",
          "name": "stdout",
          "text": [
            "\n",
            "\n",
            "------------------------------\n",
            "Training bce EPOCH 1: 0.1693\n",
            "Validation bce EPOCH 1: 0.1486\n",
            "Saving the model...\n",
            "------------------------------\n"
          ]
        },
        {
          "output_type": "stream",
          "name": "stderr",
          "text": [
            "100%|██████████| 195/195 [10:52<00:00,  3.35s/it]\n",
            "100%|██████████| 50/50 [00:36<00:00,  1.36it/s]\n",
            " 40%|████      | 2/5 [23:17<34:51, 697.02s/it]"
          ]
        },
        {
          "output_type": "stream",
          "name": "stdout",
          "text": [
            "\n",
            "\n",
            "------------------------------\n",
            "Training bce EPOCH 2: 0.0961\n",
            "Validation bce EPOCH 2: 0.1059\n",
            "Saving the model...\n",
            "------------------------------\n"
          ]
        },
        {
          "output_type": "stream",
          "name": "stderr",
          "text": [
            "100%|██████████| 195/195 [10:45<00:00,  3.31s/it]\n",
            "100%|██████████| 50/50 [00:36<00:00,  1.36it/s]\n",
            " 60%|██████    | 3/5 [34:39<23:00, 690.11s/it]"
          ]
        },
        {
          "output_type": "stream",
          "name": "stdout",
          "text": [
            "\n",
            "\n",
            "------------------------------\n",
            "Training bce EPOCH 3: 0.0814\n",
            "Validation bce EPOCH 3: 0.0983\n",
            "Saving the model...\n",
            "------------------------------\n"
          ]
        },
        {
          "output_type": "stream",
          "name": "stderr",
          "text": [
            "100%|██████████| 195/195 [10:50<00:00,  3.34s/it]\n",
            "100%|██████████| 50/50 [00:37<00:00,  1.33it/s]\n",
            " 80%|████████  | 4/5 [46:07<11:29, 689.36s/it]"
          ]
        },
        {
          "output_type": "stream",
          "name": "stdout",
          "text": [
            "\n",
            "\n",
            "------------------------------\n",
            "Training bce EPOCH 4: 0.0721\n",
            "Validation bce EPOCH 4: 0.0891\n",
            "Saving the model...\n",
            "------------------------------\n"
          ]
        },
        {
          "output_type": "stream",
          "name": "stderr",
          "text": [
            "100%|██████████| 195/195 [10:57<00:00,  3.37s/it]\n",
            "100%|██████████| 50/50 [00:38<00:00,  1.31it/s]\n",
            "100%|██████████| 5/5 [57:43<00:00, 692.63s/it]"
          ]
        },
        {
          "output_type": "stream",
          "name": "stdout",
          "text": [
            "\n",
            "\n",
            "------------------------------\n",
            "Training bce EPOCH 5: 0.0655\n",
            "Validation bce EPOCH 5: 0.0969\n",
            "------------------------------\n"
          ]
        },
        {
          "output_type": "stream",
          "name": "stderr",
          "text": [
            "\n"
          ]
        }
      ]
    },
    {
      "cell_type": "code",
      "execution_count": 91,
      "metadata": {
        "id": "D0IDGIDdsOC9"
      },
      "outputs": [],
      "source": [
        "def visualize_results(mcc_losses_train,\n",
        "                      mcc_losses_val,\n",
        "                      dice_losses_train,\n",
        "                      dice_losses_val,\n",
        "                      bce_loss_train, bce_losses_val):\n",
        "\n",
        "  fig, ax = plt.subplots(1,3, figsize=(10,5))\n",
        "\n",
        "  ax[0].plot(mcc_losses_train, label=\"Train MCC Loss\")\n",
        "  ax[0].plot(mcc_losses_val, label=\"Val MCC Loss\")\n",
        "  ax[0].legend()\n",
        "  ax[0].set_title(\"MCC Loss\")\n",
        "\n",
        "  ax[1].plot(dice_losses_train, label=\"Train DICE Loss\")\n",
        "  ax[1].plot(dice_losses_val, label=\"Val DICE Loss\")\n",
        "  ax[1].legend()\n",
        "  ax[1].set_title(\"DICE Loss\")\n",
        "\n",
        "  ax[2].plot(bce_loss_train, label=\"Train BCE Loss\")\n",
        "  ax[2].plot(bce_losses_val, label=\"Val BCE Loss\")\n",
        "  ax[2].legend()\n",
        "  ax[2].set_title(\"BCE Loss\")"
      ]
    },
    {
      "cell_type": "code",
      "source": [
        "visualize_results(mcc_train_losses,\n",
        "                  mcc_val_losses,\n",
        "                  dice_train_losses,\n",
        "                  dice_val_losses,\n",
        "                  bce_train_losses,  bce_val_losses )"
      ],
      "metadata": {
        "colab": {
          "base_uri": "https://localhost:8080/",
          "height": 468
        },
        "id": "Kw5UY7fcYE0I",
        "outputId": "c1144161-a54c-4827-c2d8-0bd71fe87b66"
      },
      "execution_count": 92,
      "outputs": [
        {
          "output_type": "display_data",
          "data": {
            "text/plain": [
              "<Figure size 1000x500 with 3 Axes>"
            ],
            "image/png": "[encoded data removed]"
          },
          "metadata": {}
        }
      ]
    },
    {
      "cell_type": "code",
      "execution_count": 93,
      "metadata": {
        "id": "sUGQNrnlOTOM"
      },
      "outputs": [],
      "source": [
        "def show_result(best_model_path, model):\n",
        "\n",
        "  test_img_path = \"/content/1728293261557.jpeg\"\n",
        "  test_img = Image.open(test_img_path)\n",
        "  test_img = my_transform(test_img).unsqueeze(0).to(device)\n",
        "\n",
        "  model = model\n",
        "  model.load_state_dict(torch.load(best_model_path, weights_only=True))\n",
        "  model.eval()\n",
        "\n",
        "  model.eval()\n",
        "  with torch.inference_mode():\n",
        "      y_logits = model(test_img)[\"out\"]\n",
        "      y_pred = torch.round(torch.sigmoid(y_logits))\n",
        "\n",
        "  pred_mask = y_pred.to(\"cpu\").squeeze()\n",
        "\n",
        "  plt.imshow(pred_mask)"
      ]
    },
    {
      "cell_type": "code",
      "source": [
        "show_result(\"my_best_checkpoint_mcc.pth\", model_1)"
      ],
      "metadata": {
        "colab": {
          "base_uri": "https://localhost:8080/",
          "height": 434
        },
        "id": "HQnXex1jpcde",
        "outputId": "db79a575-2ad8-4b69-8697-2eff75ae68fa"
      },
      "execution_count": 94,
      "outputs": [
        {
          "output_type": "display_data",
          "data": {
            "text/plain": [
              "<Figure size 640x480 with 1 Axes>"
            ],
            "image/png": "[encoded data removed]"
          },
          "metadata": {}
        }
      ]
    },
    {
      "cell_type": "code",
      "source": [
        "show_result(\"my_best_checkpoint_dice.pth\", model_2)"
      ],
      "metadata": {
        "colab": {
          "base_uri": "https://localhost:8080/",
          "height": 434
        },
        "id": "Ks67bL9xvCVe",
        "outputId": "a42e43c8-7be4-4426-e7fe-722c99c76cf0"
      },
      "execution_count": 95,
      "outputs": [
        {
          "output_type": "display_data",
          "data": {
            "text/plain": [
              "<Figure size 640x480 with 1 Axes>"
            ],
            "image/png": "[encoded data removed]"
          },
          "metadata": {}
        }
      ]
    },
    {
      "cell_type": "code",
      "source": [
        "show_result(\"my_best_checkpoint_bce.pth\", model_3)"
      ],
      "metadata": {
        "colab": {
          "base_uri": "https://localhost:8080/",
          "height": 434
        },
        "id": "oq1JA7EdvE17",
        "outputId": "4ee1c245-b727-41c3-e4fe-f86505b198fd"
      },
      "execution_count": 96,
      "outputs": [
        {
          "output_type": "display_data",
          "data": {
            "text/plain": [
              "<Figure size 640x480 with 1 Axes>"
            ],
            "image/png": "[encoded data removed]"
          },
          "metadata": {}
        }
      ]
    }
  ],
  "metadata": {
    "colab": {
      "provenance": [],
      "gpuType": "T4",
      "authorship_tag": "ABX9TyMWsiufntH9ICjtR7MvYwBX",
      "include_colab_link": true
    },
    "kernelspec": {
      "display_name": "Python 3",
      "name": "python3"
    },
    "language_info": {
      "name": "python"
    },
    "accelerator": "GPU"
  },
  "nbformat": 4,
  "nbformat_minor": 0
}