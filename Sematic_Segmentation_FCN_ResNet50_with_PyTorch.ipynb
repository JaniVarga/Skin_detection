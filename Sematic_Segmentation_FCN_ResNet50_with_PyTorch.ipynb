{
  "nbformat": 4,
  "nbformat_minor": 0,
  "metadata": {
    "colab": {
      "provenance": [],
      "gpuType": "T4",
      "authorship_tag": "ABX9TyPAShsmyVMEPIcSNB57yvsZ",
      "include_colab_link": true
    },
    "kernelspec": {
      "name": "python3",
      "display_name": "Python 3"
    },
    "language_info": {
      "name": "python"
    },
    "accelerator": "GPU"
  },
  "cells": [
    {
      "cell_type": "markdown",
      "metadata": {
        "id": "view-in-github",
        "colab_type": "text"
      },
      "source": [
        "<a href=\"https://colab.research.google.com/github/JaniVarga/Skin_detection/blob/main/Sematic_Segmentation_FCN_ResNet50_with_PyTorch.ipynb\" target=\"_parent\"><img src=\"https://colab.research.google.com/assets/colab-badge.svg\" alt=\"Open In Colab\"/></a>"
      ]
    },
    {
      "cell_type": "markdown",
      "source": [
        "# Image semantic segmentation using FCN-ResNet50 with PyTorch\n",
        "\n",
        "link: https://github.com/sovit-123/CamVid-Image-Segmentation-using-FCN-ResNet50-with-PyTorch"
      ],
      "metadata": {
        "id": "q7Mlw3uN3LXj"
      }
    },
    {
      "cell_type": "code",
      "source": [
        "import torch\n",
        "\n",
        "device=\"cuda\" if torch.cuda.is_available() else \"cpu\"\n",
        "if device==\"cuda\":\n",
        "    print(\"GPU is available\")\n",
        "    !nvidia-smi -L\n",
        "else:\n",
        "    print(\"GPU is not available, using CPU\")"
      ],
      "metadata": {
        "colab": {
          "base_uri": "https://localhost:8080/"
        },
        "id": "xwWC4NbY3l6D",
        "outputId": "fd8c24b0-5848-49ab-fa44-b3983e37f8d1"
      },
      "execution_count": 1,
      "outputs": [
        {
          "output_type": "stream",
          "name": "stdout",
          "text": [
            "GPU is available\n",
            "GPU 0: Tesla T4 (UUID: GPU-a179a77e-9df5-b1db-b918-c3136f8ab363)\n"
          ]
        }
      ]
    },
    {
      "cell_type": "code",
      "source": [
        "# import shutil\n",
        "# shutil.rmtree('/content/dataset')\n",
        "\n",
        "# !rm -rf \"/content/dataset\""
      ],
      "metadata": {
        "id": "v8V_zdSZByBw"
      },
      "execution_count": 2,
      "outputs": []
    },
    {
      "cell_type": "code",
      "source": [
        "from zipfile import ZipFile\n",
        "\n",
        "try:\n",
        "  with ZipFile(\"/content/dataset.zip\", \"r\") as zip_ref:\n",
        "      zip_ref.extractall(\"/content\")\n",
        "\n",
        "except FileNotFoundError:\n",
        "  print(\"dataset.zip file not found.\")\n",
        "\n",
        "else:\n",
        "  print(\"dataset.zip file extracted successfully.\")\n",
        "\n",
        "# finally:\n",
        "  # finally block will be executed regardless if the try block raises an error or not."
      ],
      "metadata": {
        "colab": {
          "base_uri": "https://localhost:8080/"
        },
        "id": "hwQLdhAEMnSh",
        "outputId": "e0e4d4a0-232b-456b-8d69-27053c665d09"
      },
      "execution_count": 3,
      "outputs": [
        {
          "output_type": "stream",
          "name": "stdout",
          "text": [
            "dataset.zip file extracted successfully.\n"
          ]
        }
      ]
    },
    {
      "cell_type": "markdown",
      "source": [
        "link: https://realpython.com/python-lbyl-vs-eafp/\n",
        "\n",
        "Use LBYL for:\n",
        "  * Operations that are likely to fail\n",
        "  * Irrevocable operations, and operations that may have a side effect\n",
        "  * Common exceptional conditions that can be quickly prevented beforehand\n",
        "\n",
        "Use EAFP for:\n",
        "\n",
        "  * Operations that are unlikely to fail\n",
        "  * Input and output (IO) operations, mainly hard drive and network operations\n",
        "  * Database operations that can be rolled back quickly"
      ],
      "metadata": {
        "id": "NxO0_F4BGv9O"
      }
    },
    {
      "cell_type": "code",
      "source": [
        "import os\n",
        "\n",
        "try:\n",
        "  os.remove(\"/content/dataset.zip\")\n",
        "\n",
        "except FileNotFoundError:\n",
        "  print(\"dataset.zip file not found.\")\n",
        "\n",
        "else:\n",
        "  print(\"dataset.zip file removed successfully.\")\n",
        "\n",
        "# or\n",
        "# !rm \"/content/dataset.zip\"\n",
        "\n",
        "# Read the link above!\n",
        "# if not os.path.exists(\"/content/dataset.zip\"):\n",
        "#   print(\"dataset.zip file not found.\")\n",
        "# else:\n",
        "#   os.remove(\"/content/dataset.zip\")\n",
        "#   print(\"dataset.zip file removed.\")"
      ],
      "metadata": {
        "id": "VFC-_j8ZDFdA",
        "colab": {
          "base_uri": "https://localhost:8080/"
        },
        "outputId": "c7b3e506-d5ca-47fd-de2f-5e01b27f7984"
      },
      "execution_count": 4,
      "outputs": [
        {
          "output_type": "stream",
          "name": "stdout",
          "text": [
            "dataset.zip file removed successfully.\n"
          ]
        }
      ]
    },
    {
      "cell_type": "code",
      "source": [
        "from pathlib import Path\n",
        "\n",
        "root_dir_path = Path(\"/content/dataset\")\n",
        "train_dataset_path = root_dir_path / \"train\"\n",
        "val_dataset_path = root_dir_path / \"val\"\n",
        "\n",
        "train_dataset_path, val_dataset_path"
      ],
      "metadata": {
        "id": "O4VISllrDE7K",
        "colab": {
          "base_uri": "https://localhost:8080/"
        },
        "outputId": "6629e771-8c3f-44c5-af6f-7a0550129a29"
      },
      "execution_count": 5,
      "outputs": [
        {
          "output_type": "execute_result",
          "data": {
            "text/plain": [
              "(PosixPath('/content/dataset/train'), PosixPath('/content/dataset/val'))"
            ]
          },
          "metadata": {},
          "execution_count": 5
        }
      ]
    },
    {
      "cell_type": "code",
      "source": [
        "images_dataset = root_dir_path.glob(\"**/images/*.jpeg\")\n",
        "masks_dataset = root_dir_path.glob(\"**/masks/*.png\")"
      ],
      "metadata": {
        "id": "VG8iPTw6eBlG"
      },
      "execution_count": 6,
      "outputs": []
    },
    {
      "cell_type": "code",
      "source": [
        "list_of_images = sorted(list(images_dataset))\n",
        "list_of_masks = sorted(list(masks_dataset))"
      ],
      "metadata": {
        "id": "zoWV5ajc7QQU"
      },
      "execution_count": 7,
      "outputs": []
    },
    {
      "cell_type": "code",
      "source": [
        "from torchvision.io import read_image\n",
        "\n",
        "# img = read_image(list_of_images[0])\n",
        "# mask = read_image(list_of_masks[0]).permute(1, 2, 0)"
      ],
      "metadata": {
        "id": "Tb_EBuP_Ht4R"
      },
      "execution_count": 8,
      "outputs": []
    },
    {
      "cell_type": "code",
      "source": [
        "from PIL import Image\n",
        "\n",
        "img = Image.open(list_of_images[0])\n",
        "mask = Image.open(list_of_masks[0])"
      ],
      "metadata": {
        "id": "de0H299vN9jT"
      },
      "execution_count": 9,
      "outputs": []
    },
    {
      "cell_type": "code",
      "source": [
        "mask.mode, mask.size, mask.getbands()"
      ],
      "metadata": {
        "colab": {
          "base_uri": "https://localhost:8080/"
        },
        "id": "q3Qq_ErA9yRa",
        "outputId": "52b1837a-79f7-4bc3-c6b2-ab756498598c"
      },
      "execution_count": 10,
      "outputs": [
        {
          "output_type": "execute_result",
          "data": {
            "text/plain": [
              "('1', (352, 288), ('1',))"
            ]
          },
          "metadata": {},
          "execution_count": 10
        }
      ]
    },
    {
      "cell_type": "code",
      "source": [
        "import matplotlib.pyplot as plt\n",
        "\n",
        "fig, ax = plt.subplots(nrows=1, ncols=2)\n",
        "ax[0].imshow(img)\n",
        "ax[0].set_title(\"Image\")\n",
        "ax[0].axis(\"off\")\n",
        "ax[1].imshow(mask)\n",
        "ax[1].set_title(\"Mask\")\n",
        "ax[1].axis(\"off\")\n",
        "plt.show()\n"
      ],
      "metadata": {
        "colab": {
          "base_uri": "https://localhost:8080/",
          "height": 243
        },
        "id": "NmSTOYTo-cRo",
        "outputId": "72ed3c5b-07d8-4247-d696-7850bcca5bda"
      },
      "execution_count": 11,
      "outputs": [
        {
          "output_type": "display_data",
          "data": {
            "text/plain": [
              "<Figure size 640x480 with 2 Axes>"
            ],
            "image/png": "[encoded data removed]"
          },
          "metadata": {}
        }
      ]
    },
    {
      "cell_type": "code",
      "source": [
        "import torchvision\n",
        "\n",
        "weights =  torchvision.models.segmentation.FCN_ResNet50_Weights.DEFAULT # \"DEFAULT\" = Best available weights\n",
        "weights"
      ],
      "metadata": {
        "colab": {
          "base_uri": "https://localhost:8080/"
        },
        "id": "iXmWRq0jI2M3",
        "outputId": "030125c0-b3da-40cf-97c6-7dfecd7e2cf0"
      },
      "execution_count": 12,
      "outputs": [
        {
          "output_type": "execute_result",
          "data": {
            "text/plain": [
              "FCN_ResNet50_Weights.COCO_WITH_VOC_LABELS_V1"
            ]
          },
          "metadata": {},
          "execution_count": 12
        }
      ]
    },
    {
      "cell_type": "code",
      "source": [
        "auto_transforms = weights.transforms()\n",
        "auto_transforms"
      ],
      "metadata": {
        "id": "oQtlU3uOGGjk",
        "colab": {
          "base_uri": "https://localhost:8080/"
        },
        "outputId": "876f7ec1-1c87-4298-cd26-4a42c381e3c6"
      },
      "execution_count": 13,
      "outputs": [
        {
          "output_type": "execute_result",
          "data": {
            "text/plain": [
              "SemanticSegmentation(\n",
              "    resize_size=[520]\n",
              "    mean=[0.485, 0.456, 0.406]\n",
              "    std=[0.229, 0.224, 0.225]\n",
              "    interpolation=InterpolationMode.BILINEAR\n",
              ")"
            ]
          },
          "metadata": {},
          "execution_count": 13
        }
      ]
    },
    {
      "cell_type": "code",
      "source": [
        "auto_transforms.describe()"
      ],
      "metadata": {
        "colab": {
          "base_uri": "https://localhost:8080/",
          "height": 70
        },
        "id": "ozX5pNCN3g__",
        "outputId": "56923034-e3b7-4202-d2eb-7aacd7dfe740"
      },
      "execution_count": 14,
      "outputs": [
        {
          "output_type": "execute_result",
          "data": {
            "text/plain": [
              "'Accepts ``PIL.Image``, batched ``(B, C, H, W)`` and single ``(C, H, W)`` image ``torch.Tensor`` objects. The images are resized to ``resize_size=[520]`` using ``interpolation=InterpolationMode.BILINEAR``. Finally the values are first rescaled to ``[0.0, 1.0]`` and then normalized using ``mean=[0.485, 0.456, 0.406]`` and ``std=[0.229, 0.224, 0.225]``.'"
            ],
            "application/vnd.google.colaboratory.intrinsic+json": {
              "type": "string"
            }
          },
          "metadata": {},
          "execution_count": 14
        }
      ]
    },
    {
      "cell_type": "code",
      "source": [
        "from torchvision.transforms import v2\n",
        "\n",
        "auto_transforms = v2.Compose([\n",
        "    v2.ToImage(),\n",
        "    v2.ToDtype(dtype=torch.float32, scale=True),\n",
        "    v2.Resize(size=(520,520)),\n",
        "    v2.Normalize(mean=[0.485, 0.456, 0.406], std=[0.229, 0.224, 0.225]),\n",
        "])"
      ],
      "metadata": {
        "id": "c7iC1tZWJtQM"
      },
      "execution_count": 15,
      "outputs": []
    },
    {
      "cell_type": "code",
      "source": [
        "auto_transforms"
      ],
      "metadata": {
        "colab": {
          "base_uri": "https://localhost:8080/"
        },
        "id": "UL_TE7T5Kb0M",
        "outputId": "9b528a9e-22eb-4ca3-f40f-67f7800108d1"
      },
      "execution_count": 16,
      "outputs": [
        {
          "output_type": "execute_result",
          "data": {
            "text/plain": [
              "Compose(\n",
              "      ToImage()\n",
              "      ToDtype(scale=True)\n",
              "      Resize(size=[520, 520], interpolation=InterpolationMode.BILINEAR, antialias=True)\n",
              "      Normalize(mean=[0.485, 0.456, 0.406], std=[0.229, 0.224, 0.225], inplace=False)\n",
              ")"
            ]
          },
          "metadata": {},
          "execution_count": 16
        }
      ]
    },
    {
      "cell_type": "code",
      "source": [
        "# link: https://pytorch.org/tutorials/beginner/data_loading_tutorial.html\n",
        "from torchvision.transforms.functional import pil_to_tensor\n",
        "from torch.utils.data import Dataset\n",
        "import glob\n",
        "import numpy as np\n",
        "\n",
        "class CustomImageDataset(Dataset):\n",
        "  def __init__(self, data_root_path , transform=None):\n",
        "    self.images_dataset = sorted(glob.glob(pathname=f\"{data_root_path}/images/*.*\"))\n",
        "    self.masks_dataset = sorted(glob.glob(pathname=f\"{data_root_path}/masks/*.*\"))\n",
        "    self.transform = transform\n",
        "\n",
        "  def __len__(self):\n",
        "    return len(self.images_dataset)\n",
        "\n",
        "  def __getitem__(self, index):\n",
        "    image = Image.open(self.images_dataset[index])\n",
        "    mask = Image.open(self.masks_dataset[index])\n",
        "    mask = v2.Resize(size=(520, 520))(pil_to_tensor(mask).to(torch.float32))\n",
        "\n",
        "\n",
        "    if self.transform:\n",
        "      return self.transform(image), mask\n",
        "    else:\n",
        "      return torch.tensor(image), torch.tensor(mask)"
      ],
      "metadata": {
        "id": "j3epGmpsMq-e"
      },
      "execution_count": 17,
      "outputs": []
    },
    {
      "cell_type": "code",
      "source": [
        "img, mask = CustomImageDataset(data_root_path=train_dataset_path, transform=auto_transforms).__getitem__(0)"
      ],
      "metadata": {
        "id": "flibq5pXtQ8c"
      },
      "execution_count": 18,
      "outputs": []
    },
    {
      "cell_type": "code",
      "source": [
        "img.shape,img.dtype, mask.shape, mask.dtype"
      ],
      "metadata": {
        "colab": {
          "base_uri": "https://localhost:8080/"
        },
        "id": "vxSwmh1wuHFb",
        "outputId": "e8c2a573-3910-48c8-e451-d84d314d3850"
      },
      "execution_count": 19,
      "outputs": [
        {
          "output_type": "execute_result",
          "data": {
            "text/plain": [
              "(torch.Size([3, 520, 520]),\n",
              " torch.float32,\n",
              " torch.Size([1, 520, 520]),\n",
              " torch.float32)"
            ]
          },
          "metadata": {},
          "execution_count": 19
        }
      ]
    },
    {
      "cell_type": "code",
      "source": [
        "fig, ax = plt.subplots(nrows=1, ncols=2)\n",
        "ax[0].imshow(img.permute(1, 2, 0))\n",
        "ax[0].set_title(\"Image\")\n",
        "ax[0].axis(\"off\")\n",
        "ax[1].imshow(mask.permute(1, 2, 0))\n",
        "ax[1].set_title(\"Mask\")\n",
        "ax[1].axis(\"off\")\n",
        "plt.show()"
      ],
      "metadata": {
        "colab": {
          "base_uri": "https://localhost:8080/",
          "height": 301
        },
        "id": "5vVDwRSWxmYM",
        "outputId": "38e68630-29e5-4dff-957e-80348465a9f1"
      },
      "execution_count": 20,
      "outputs": [
        {
          "output_type": "stream",
          "name": "stderr",
          "text": [
            "WARNING:matplotlib.image:Clipping input data to the valid range for imshow with RGB data ([0..1] for floats or [0..255] for integers).\n"
          ]
        },
        {
          "output_type": "display_data",
          "data": {
            "text/plain": [
              "<Figure size 640x480 with 2 Axes>"
            ],
            "image/png": "[encoded data removed]"
          },
          "metadata": {}
        }
      ]
    },
    {
      "cell_type": "code",
      "source": [
        "train_dataset_path = root_dir_path / \"train\"\n",
        "val_dataset_path = root_dir_path / \"val\""
      ],
      "metadata": {
        "id": "3zcQONhwqvdk"
      },
      "execution_count": 21,
      "outputs": []
    },
    {
      "cell_type": "code",
      "source": [
        "# Create `DataLoaders` using automatic transforms\n",
        "train_dataset = CustomImageDataset(data_root_path=train_dataset_path,\n",
        "                                   transform=auto_transforms)\n",
        "\n",
        "test_dataset = CustomImageDataset(data_root_path=val_dataset_path,\n",
        "                                  transform=auto_transforms)"
      ],
      "metadata": {
        "id": "N6strd-hMj1R"
      },
      "execution_count": 22,
      "outputs": []
    },
    {
      "cell_type": "code",
      "source": [
        "from torch.utils.data import DataLoader\n",
        "\n",
        "train_dataloader = DataLoader(dataset=train_dataset,\n",
        "                              batch_size=8,\n",
        "                              shuffle=True,\n",
        "                              num_workers=2,\n",
        "                              pin_memory=True\n",
        "                              )\n",
        "\n",
        "test_dataloader = DataLoader(dataset=test_dataset,\n",
        "                              batch_size=8,\n",
        "                              shuffle=False,\n",
        "                              num_workers=2,\n",
        "                              pin_memory=True\n",
        "                             )\n",
        "\n",
        "train_dataloader, test_dataloader"
      ],
      "metadata": {
        "colab": {
          "base_uri": "https://localhost:8080/"
        },
        "id": "PqrDwg80q3gb",
        "outputId": "59bc0566-fcb3-464f-9c65-0ba5c5e9ece4"
      },
      "execution_count": 23,
      "outputs": [
        {
          "output_type": "execute_result",
          "data": {
            "text/plain": [
              "(<torch.utils.data.dataloader.DataLoader at 0x7ed287e1aad0>,\n",
              " <torch.utils.data.dataloader.DataLoader at 0x7ed287e1b700>)"
            ]
          },
          "metadata": {},
          "execution_count": 23
        }
      ]
    },
    {
      "cell_type": "code",
      "source": [
        "def dice_coefficient(prediction, target, epsilon=1e-07):\n",
        "    prediction_copy = prediction.clone()\n",
        "\n",
        "    prediction_copy[prediction_copy < 0] = 0\n",
        "    prediction_copy[prediction_copy > 0] = 1\n",
        "\n",
        "    intersection = abs(torch.sum(prediction_copy * target))\n",
        "    union = abs(torch.sum(prediction_copy) + torch.sum(target))\n",
        "    dice = (2. * intersection + epsilon) / (union + epsilon)\n",
        "\n",
        "    return dice"
      ],
      "metadata": {
        "id": "hjFWvOeZtMbb"
      },
      "execution_count": 24,
      "outputs": []
    },
    {
      "cell_type": "code",
      "source": [
        "!pip install torchinfo"
      ],
      "metadata": {
        "colab": {
          "base_uri": "https://localhost:8080/"
        },
        "id": "3909tqJXt9X2",
        "outputId": "0383000d-6b08-466a-be3c-45c4c67f2a33"
      },
      "execution_count": 25,
      "outputs": [
        {
          "output_type": "stream",
          "name": "stdout",
          "text": [
            "Collecting torchinfo\n",
            "  Downloading torchinfo-1.8.0-py3-none-any.whl.metadata (21 kB)\n",
            "Downloading torchinfo-1.8.0-py3-none-any.whl (23 kB)\n",
            "Installing collected packages: torchinfo\n",
            "Successfully installed torchinfo-1.8.0\n"
          ]
        }
      ]
    },
    {
      "cell_type": "code",
      "source": [
        "model = torchvision.models.segmentation.fcn_resnet50()\n"
      ],
      "metadata": {
        "id": "l3EpC--9uRWk",
        "colab": {
          "base_uri": "https://localhost:8080/"
        },
        "outputId": "c82e63ee-b7fd-4a91-8143-d1c9c922f8c0"
      },
      "execution_count": 26,
      "outputs": [
        {
          "output_type": "stream",
          "name": "stderr",
          "text": [
            "Downloading: \"https://download.pytorch.org/models/resnet50-0676ba61.pth\" to /root/.cache/torch/hub/checkpoints/resnet50-0676ba61.pth\n",
            "100%|██████████| 97.8M/97.8M [00:00<00:00, 127MB/s]\n"
          ]
        }
      ]
    },
    {
      "cell_type": "code",
      "source": [
        "from torchinfo import summary\n",
        "\n",
        "summary(model=model,\n",
        "        input_size=(1, 3, 520, 520),\n",
        "        col_names=[\"input_size\", \"output_size\", \"num_params\", \"trainable\"],\n",
        "        col_width=20,\n",
        "        row_settings=[\"var_names\"])"
      ],
      "metadata": {
        "colab": {
          "base_uri": "https://localhost:8080/"
        },
        "id": "MB68-0rRt3Om",
        "outputId": "6b08161c-533c-4dfd-e857-f100b48de768"
      },
      "execution_count": 27,
      "outputs": [
        {
          "output_type": "execute_result",
          "data": {
            "text/plain": [
              "=============================================================================================================================\n",
              "Layer (type (var_name))                       Input Shape          Output Shape         Param #              Trainable\n",
              "=============================================================================================================================\n",
              "FCN (FCN)                                     [1, 3, 520, 520]     [1, 21, 520, 520]    --                   True\n",
              "├─IntermediateLayerGetter (backbone)          [1, 3, 520, 520]     [1, 2048, 65, 65]    --                   True\n",
              "│    └─Conv2d (conv1)                         [1, 3, 520, 520]     [1, 64, 260, 260]    9,408                True\n",
              "│    └─BatchNorm2d (bn1)                      [1, 64, 260, 260]    [1, 64, 260, 260]    128                  True\n",
              "│    └─ReLU (relu)                            [1, 64, 260, 260]    [1, 64, 260, 260]    --                   --\n",
              "│    └─MaxPool2d (maxpool)                    [1, 64, 260, 260]    [1, 64, 130, 130]    --                   --\n",
              "│    └─Sequential (layer1)                    [1, 64, 130, 130]    [1, 256, 130, 130]   --                   True\n",
              "│    │    └─Bottleneck (0)                    [1, 64, 130, 130]    [1, 256, 130, 130]   75,008               True\n",
              "│    │    └─Bottleneck (1)                    [1, 256, 130, 130]   [1, 256, 130, 130]   70,400               True\n",
              "│    │    └─Bottleneck (2)                    [1, 256, 130, 130]   [1, 256, 130, 130]   70,400               True\n",
              "│    └─Sequential (layer2)                    [1, 256, 130, 130]   [1, 512, 65, 65]     --                   True\n",
              "│    │    └─Bottleneck (0)                    [1, 256, 130, 130]   [1, 512, 65, 65]     379,392              True\n",
              "│    │    └─Bottleneck (1)                    [1, 512, 65, 65]     [1, 512, 65, 65]     280,064              True\n",
              "│    │    └─Bottleneck (2)                    [1, 512, 65, 65]     [1, 512, 65, 65]     280,064              True\n",
              "│    │    └─Bottleneck (3)                    [1, 512, 65, 65]     [1, 512, 65, 65]     280,064              True\n",
              "│    └─Sequential (layer3)                    [1, 512, 65, 65]     [1, 1024, 65, 65]    --                   True\n",
              "│    │    └─Bottleneck (0)                    [1, 512, 65, 65]     [1, 1024, 65, 65]    1,512,448            True\n",
              "│    │    └─Bottleneck (1)                    [1, 1024, 65, 65]    [1, 1024, 65, 65]    1,117,184            True\n",
              "│    │    └─Bottleneck (2)                    [1, 1024, 65, 65]    [1, 1024, 65, 65]    1,117,184            True\n",
              "│    │    └─Bottleneck (3)                    [1, 1024, 65, 65]    [1, 1024, 65, 65]    1,117,184            True\n",
              "│    │    └─Bottleneck (4)                    [1, 1024, 65, 65]    [1, 1024, 65, 65]    1,117,184            True\n",
              "│    │    └─Bottleneck (5)                    [1, 1024, 65, 65]    [1, 1024, 65, 65]    1,117,184            True\n",
              "│    └─Sequential (layer4)                    [1, 1024, 65, 65]    [1, 2048, 65, 65]    --                   True\n",
              "│    │    └─Bottleneck (0)                    [1, 1024, 65, 65]    [1, 2048, 65, 65]    6,039,552            True\n",
              "│    │    └─Bottleneck (1)                    [1, 2048, 65, 65]    [1, 2048, 65, 65]    4,462,592            True\n",
              "│    │    └─Bottleneck (2)                    [1, 2048, 65, 65]    [1, 2048, 65, 65]    4,462,592            True\n",
              "├─FCNHead (classifier)                        [1, 2048, 65, 65]    [1, 21, 65, 65]      --                   True\n",
              "│    └─Conv2d (0)                             [1, 2048, 65, 65]    [1, 512, 65, 65]     9,437,184            True\n",
              "│    └─BatchNorm2d (1)                        [1, 512, 65, 65]     [1, 512, 65, 65]     1,024                True\n",
              "│    └─ReLU (2)                               [1, 512, 65, 65]     [1, 512, 65, 65]     --                   --\n",
              "│    └─Dropout (3)                            [1, 512, 65, 65]     [1, 512, 65, 65]     --                   --\n",
              "│    └─Conv2d (4)                             [1, 512, 65, 65]     [1, 21, 65, 65]      10,773               True\n",
              "=============================================================================================================================\n",
              "Total params: 32,957,013\n",
              "Trainable params: 32,957,013\n",
              "Non-trainable params: 0\n",
              "Total mult-adds (G): 142.73\n",
              "=============================================================================================================================\n",
              "Input size (MB): 3.24\n",
              "Forward/backward pass size (MB): 2207.17\n",
              "Params size (MB): 131.83\n",
              "Estimated Total Size (MB): 2342.25\n",
              "============================================================================================================================="
            ]
          },
          "metadata": {},
          "execution_count": 27
        }
      ]
    },
    {
      "cell_type": "code",
      "source": [
        "model.classifier"
      ],
      "metadata": {
        "colab": {
          "base_uri": "https://localhost:8080/"
        },
        "id": "_DvF_0a2vZKb",
        "outputId": "16996540-6942-498e-b3d6-ff7a12bab8fa"
      },
      "execution_count": 28,
      "outputs": [
        {
          "output_type": "execute_result",
          "data": {
            "text/plain": [
              "FCNHead(\n",
              "  (0): Conv2d(2048, 512, kernel_size=(3, 3), stride=(1, 1), padding=(1, 1), bias=False)\n",
              "  (1): BatchNorm2d(512, eps=1e-05, momentum=0.1, affine=True, track_running_stats=True)\n",
              "  (2): ReLU()\n",
              "  (3): Dropout(p=0.1, inplace=False)\n",
              "  (4): Conv2d(512, 21, kernel_size=(1, 1), stride=(1, 1))\n",
              ")"
            ]
          },
          "metadata": {},
          "execution_count": 28
        }
      ]
    },
    {
      "cell_type": "code",
      "source": [
        "from torch import nn\n",
        "\n",
        "model.classifier = nn.Sequential(\n",
        "    nn.Conv2d(in_channels=2048, out_channels=512, kernel_size=3, stride=1, padding=1, bias=False),\n",
        "    nn.BatchNorm2d(num_features=512, eps=1e-05, momentum=0.1, affine=True, track_running_stats=True),\n",
        "    nn.ReLU(),\n",
        "    nn.Dropout(p=0.1, inplace=False),\n",
        "    nn.Conv2d(in_channels=512, out_channels=1, kernel_size=1, stride=1)\n",
        ").to(device)\n",
        "\n",
        "model.classifier"
      ],
      "metadata": {
        "colab": {
          "base_uri": "https://localhost:8080/"
        },
        "id": "leUXNCgbwtO5",
        "outputId": "47a5e6f2-91ec-4649-c0e0-b73ad4052f3f"
      },
      "execution_count": 29,
      "outputs": [
        {
          "output_type": "execute_result",
          "data": {
            "text/plain": [
              "Sequential(\n",
              "  (0): Conv2d(2048, 512, kernel_size=(3, 3), stride=(1, 1), padding=(1, 1), bias=False)\n",
              "  (1): BatchNorm2d(512, eps=1e-05, momentum=0.1, affine=True, track_running_stats=True)\n",
              "  (2): ReLU()\n",
              "  (3): Dropout(p=0.1, inplace=False)\n",
              "  (4): Conv2d(512, 1, kernel_size=(1, 1), stride=(1, 1))\n",
              ")"
            ]
          },
          "metadata": {},
          "execution_count": 29
        }
      ]
    },
    {
      "cell_type": "code",
      "source": [
        "summary(model=model,\n",
        "        input_size=(1, 3, 520, 520),\n",
        "        col_names=[\"input_size\", \"output_size\", \"num_params\", \"trainable\"],\n",
        "        col_width=20,\n",
        "        row_settings=[\"var_names\"])"
      ],
      "metadata": {
        "colab": {
          "base_uri": "https://localhost:8080/"
        },
        "id": "O-wg1X4XMn3e",
        "outputId": "8a90edcf-9cb3-4910-9e16-fede3ae0884d"
      },
      "execution_count": 30,
      "outputs": [
        {
          "output_type": "execute_result",
          "data": {
            "text/plain": [
              "=============================================================================================================================\n",
              "Layer (type (var_name))                       Input Shape          Output Shape         Param #              Trainable\n",
              "=============================================================================================================================\n",
              "FCN (FCN)                                     [1, 3, 520, 520]     [1, 1, 520, 520]     --                   True\n",
              "├─IntermediateLayerGetter (backbone)          [1, 3, 520, 520]     [1, 2048, 65, 65]    --                   True\n",
              "│    └─Conv2d (conv1)                         [1, 3, 520, 520]     [1, 64, 260, 260]    9,408                True\n",
              "│    └─BatchNorm2d (bn1)                      [1, 64, 260, 260]    [1, 64, 260, 260]    128                  True\n",
              "│    └─ReLU (relu)                            [1, 64, 260, 260]    [1, 64, 260, 260]    --                   --\n",
              "│    └─MaxPool2d (maxpool)                    [1, 64, 260, 260]    [1, 64, 130, 130]    --                   --\n",
              "│    └─Sequential (layer1)                    [1, 64, 130, 130]    [1, 256, 130, 130]   --                   True\n",
              "│    │    └─Bottleneck (0)                    [1, 64, 130, 130]    [1, 256, 130, 130]   75,008               True\n",
              "│    │    └─Bottleneck (1)                    [1, 256, 130, 130]   [1, 256, 130, 130]   70,400               True\n",
              "│    │    └─Bottleneck (2)                    [1, 256, 130, 130]   [1, 256, 130, 130]   70,400               True\n",
              "│    └─Sequential (layer2)                    [1, 256, 130, 130]   [1, 512, 65, 65]     --                   True\n",
              "│    │    └─Bottleneck (0)                    [1, 256, 130, 130]   [1, 512, 65, 65]     379,392              True\n",
              "│    │    └─Bottleneck (1)                    [1, 512, 65, 65]     [1, 512, 65, 65]     280,064              True\n",
              "│    │    └─Bottleneck (2)                    [1, 512, 65, 65]     [1, 512, 65, 65]     280,064              True\n",
              "│    │    └─Bottleneck (3)                    [1, 512, 65, 65]     [1, 512, 65, 65]     280,064              True\n",
              "│    └─Sequential (layer3)                    [1, 512, 65, 65]     [1, 1024, 65, 65]    --                   True\n",
              "│    │    └─Bottleneck (0)                    [1, 512, 65, 65]     [1, 1024, 65, 65]    1,512,448            True\n",
              "│    │    └─Bottleneck (1)                    [1, 1024, 65, 65]    [1, 1024, 65, 65]    1,117,184            True\n",
              "│    │    └─Bottleneck (2)                    [1, 1024, 65, 65]    [1, 1024, 65, 65]    1,117,184            True\n",
              "│    │    └─Bottleneck (3)                    [1, 1024, 65, 65]    [1, 1024, 65, 65]    1,117,184            True\n",
              "│    │    └─Bottleneck (4)                    [1, 1024, 65, 65]    [1, 1024, 65, 65]    1,117,184            True\n",
              "│    │    └─Bottleneck (5)                    [1, 1024, 65, 65]    [1, 1024, 65, 65]    1,117,184            True\n",
              "│    └─Sequential (layer4)                    [1, 1024, 65, 65]    [1, 2048, 65, 65]    --                   True\n",
              "│    │    └─Bottleneck (0)                    [1, 1024, 65, 65]    [1, 2048, 65, 65]    6,039,552            True\n",
              "│    │    └─Bottleneck (1)                    [1, 2048, 65, 65]    [1, 2048, 65, 65]    4,462,592            True\n",
              "│    │    └─Bottleneck (2)                    [1, 2048, 65, 65]    [1, 2048, 65, 65]    4,462,592            True\n",
              "├─Sequential (classifier)                     [1, 2048, 65, 65]    [1, 1, 65, 65]       --                   True\n",
              "│    └─Conv2d (0)                             [1, 2048, 65, 65]    [1, 512, 65, 65]     9,437,184            True\n",
              "│    └─BatchNorm2d (1)                        [1, 512, 65, 65]     [1, 512, 65, 65]     1,024                True\n",
              "│    └─ReLU (2)                               [1, 512, 65, 65]     [1, 512, 65, 65]     --                   --\n",
              "│    └─Dropout (3)                            [1, 512, 65, 65]     [1, 512, 65, 65]     --                   --\n",
              "│    └─Conv2d (4)                             [1, 512, 65, 65]     [1, 1, 65, 65]       513                  True\n",
              "=============================================================================================================================\n",
              "Total params: 32,946,753\n",
              "Trainable params: 32,946,753\n",
              "Non-trainable params: 0\n",
              "Total mult-adds (G): 142.68\n",
              "=============================================================================================================================\n",
              "Input size (MB): 3.24\n",
              "Forward/backward pass size (MB): 2206.50\n",
              "Params size (MB): 131.79\n",
              "Estimated Total Size (MB): 2341.53\n",
              "============================================================================================================================="
            ]
          },
          "metadata": {},
          "execution_count": 30
        }
      ]
    },
    {
      "cell_type": "code",
      "source": [
        "torch.cuda.empty_cache()"
      ],
      "metadata": {
        "id": "KCYkRv7b_BAm"
      },
      "execution_count": 31,
      "outputs": []
    },
    {
      "cell_type": "code",
      "source": [
        "optimizer = torch.optim.Adam(params=model.parameters(),\n",
        "                             lr=0.001)\n",
        "loss_fn = nn.BCEWithLogitsLoss()"
      ],
      "metadata": {
        "id": "FBnihTvo3VBG"
      },
      "execution_count": 32,
      "outputs": []
    },
    {
      "cell_type": "code",
      "source": [
        "# https://pytorch.org/hub/pytorch_vision_deeplabv3_resnet101/\n",
        "\n",
        "# The model returns an OrderedDict with two Tensors that are of the same height and width as the input Tensor,\n",
        "# but with 21 classes. output['out'] contains the semantic masks,\n",
        "# and output['aux'] contains the auxiliary loss values per-pixel.\n",
        "# In inference mode, output['aux'] is not useful. So, output['out'] is of shape (N, 21, H, W)\n",
        "\n",
        "from tqdm import tqdm\n",
        "\n",
        "EPOCHS = 5\n",
        "\n",
        "train_losses = []\n",
        "train_dcs = []\n",
        "val_losses = []\n",
        "val_dcs = []\n",
        "\n",
        "for epoch in tqdm(range(EPOCHS)):\n",
        "    model.train()\n",
        "    train_running_loss = 0\n",
        "    train_running_dc = 0\n",
        "\n",
        "    for idx, img_mask in enumerate(tqdm(train_dataloader, position=0, leave=True)):\n",
        "        img = img_mask[0].float().to(device)\n",
        "        mask = img_mask[1].float().to(device)\n",
        "\n",
        "        y_pred = model(img)[\"out\"]\n",
        "        optimizer.zero_grad()\n",
        "        # print(f\"\\n\\n\\nY_pred shape: {y_pred.shape}\")\n",
        "        # print(f\"Mask shape: {mask.shape}\\n\\n\\n\")\n",
        "        # y_pred_tensor = y_pred['out']\n",
        "\n",
        "        # dc = dice_coefficient(y_pred, mask)\n",
        "        loss = loss_fn(y_pred, mask)\n",
        "\n",
        "        train_running_loss += loss.item()\n",
        "        # train_running_dc += dc.item()\n",
        "\n",
        "        loss.backward()\n",
        "        optimizer.step()\n",
        "\n",
        "    train_loss = train_running_loss / (idx + 1)\n",
        "    # train_dc = train_running_dc / (idx + 1)\n",
        "\n",
        "    train_losses.append(train_loss)\n",
        "    # train_dcs.append(train_dc)\n",
        "\n",
        "    model.eval()\n",
        "    val_running_loss = 0\n",
        "    # val_running_dc = 0\n",
        "\n",
        "    with torch.no_grad():\n",
        "        for idx, img_mask in enumerate(tqdm(test_dataloader, position=0, leave=True)):\n",
        "            img = img_mask[0].float().to(device)\n",
        "            mask = img_mask[1].float().to(device)\n",
        "\n",
        "            y_pred = model(img)[\"out\"]\n",
        "            loss = loss_fn(y_pred, mask)\n",
        "            # dc = dice_coefficient(y_pred, mask)\n",
        "\n",
        "            val_running_loss += loss.item()\n",
        "            # val_running_dc += dc.item()\n",
        "\n",
        "        val_loss = val_running_loss / (idx + 1)\n",
        "        # val_dc = val_running_dc / (idx + 1)\n",
        "\n",
        "    val_losses.append(val_loss)\n",
        "    # val_dcs.append(val_dc)\n",
        "\n",
        "    print(\"-\" * 30)\n",
        "    print(f\"Training Loss EPOCH {epoch + 1}: {train_loss:.4f}\")\n",
        "    # print(f\"Training DICE EPOCH {epoch + 1}: {train_dc:.4f}\")\n",
        "    print(\"\\n\")\n",
        "    print(f\"Validation Loss EPOCH {epoch + 1}: {val_loss:.4f}\")\n",
        "    # print(f\"Validation DICE EPOCH {epoch + 1}: {val_dc:.4f}\")\n",
        "    print(\"-\" * 30)\n",
        "\n",
        "# Saving the model\n",
        "torch.save(model.state_dict(), 'my_checkpoint.pth')"
      ],
      "metadata": {
        "colab": {
          "base_uri": "https://localhost:8080/"
        },
        "id": "D__MH0XA02-4",
        "outputId": "e1afbe66-ed78-4fa1-bd58-a8440cb9d59a"
      },
      "execution_count": 33,
      "outputs": [
        {
          "output_type": "stream",
          "name": "stderr",
          "text": [
            "100%|██████████| 389/389 [12:09<00:00,  1.87s/it]\n",
            "100%|██████████| 99/99 [00:58<00:00,  1.70it/s]\n",
            " 20%|██        | 1/5 [13:07<52:29, 787.26s/it]"
          ]
        },
        {
          "output_type": "stream",
          "name": "stdout",
          "text": [
            "------------------------------\n",
            "Training Loss EPOCH 1: 0.1560\n",
            "\n",
            "\n",
            "Validation Loss EPOCH 1: 0.1387\n",
            "------------------------------\n"
          ]
        },
        {
          "output_type": "stream",
          "name": "stderr",
          "text": [
            "100%|██████████| 389/389 [12:19<00:00,  1.90s/it]\n",
            "100%|██████████| 99/99 [00:58<00:00,  1.70it/s]\n",
            " 40%|████      | 2/5 [26:24<39:39, 793.11s/it]"
          ]
        },
        {
          "output_type": "stream",
          "name": "stdout",
          "text": [
            "------------------------------\n",
            "Training Loss EPOCH 2: 0.1074\n",
            "\n",
            "\n",
            "Validation Loss EPOCH 2: 0.1016\n",
            "------------------------------\n"
          ]
        },
        {
          "output_type": "stream",
          "name": "stderr",
          "text": [
            "100%|██████████| 389/389 [12:18<00:00,  1.90s/it]\n",
            "100%|██████████| 99/99 [00:57<00:00,  1.71it/s]\n",
            " 60%|██████    | 3/5 [39:40<26:29, 794.66s/it]"
          ]
        },
        {
          "output_type": "stream",
          "name": "stdout",
          "text": [
            "------------------------------\n",
            "Training Loss EPOCH 3: 0.0929\n",
            "\n",
            "\n",
            "Validation Loss EPOCH 3: 0.1252\n",
            "------------------------------\n"
          ]
        },
        {
          "output_type": "stream",
          "name": "stderr",
          "text": [
            "100%|██████████| 389/389 [12:18<00:00,  1.90s/it]\n",
            "100%|██████████| 99/99 [00:57<00:00,  1.71it/s]\n",
            " 80%|████████  | 4/5 [52:56<13:15, 795.17s/it]"
          ]
        },
        {
          "output_type": "stream",
          "name": "stdout",
          "text": [
            "------------------------------\n",
            "Training Loss EPOCH 4: 0.0874\n",
            "\n",
            "\n",
            "Validation Loss EPOCH 4: 0.0995\n",
            "------------------------------\n"
          ]
        },
        {
          "output_type": "stream",
          "name": "stderr",
          "text": [
            "100%|██████████| 389/389 [12:17<00:00,  1.90s/it]\n",
            "100%|██████████| 99/99 [00:57<00:00,  1.72it/s]\n",
            "100%|██████████| 5/5 [1:06:12<00:00, 794.49s/it]\n"
          ]
        },
        {
          "output_type": "stream",
          "name": "stdout",
          "text": [
            "------------------------------\n",
            "Training Loss EPOCH 5: 0.0829\n",
            "\n",
            "\n",
            "Validation Loss EPOCH 5: 0.0947\n",
            "------------------------------\n"
          ]
        }
      ]
    },
    {
      "cell_type": "code",
      "source": [
        "test_img_path = \"/content/1728293261557.jpeg\"\n",
        "test_img = Image.open(test_img_path)\n",
        "test_img = auto_transforms(test_img).unsqueeze(0).to(device)\n",
        "\n",
        "model.eval()\n",
        "with torch.inference_mode():\n",
        "    y_logits = model(test_img)[\"out\"]\n",
        "    y_pred = torch.round(torch.sigmoid(y_logits))"
      ],
      "metadata": {
        "id": "TmXQg0gik2n6"
      },
      "execution_count": 35,
      "outputs": []
    },
    {
      "cell_type": "code",
      "source": [
        "pred_mask =y_pred.to(\"cpu\").squeeze()"
      ],
      "metadata": {
        "id": "Wz2CSdcNt192"
      },
      "execution_count": 36,
      "outputs": []
    },
    {
      "cell_type": "code",
      "source": [
        "plt.imshow(pred_mask)"
      ],
      "metadata": {
        "id": "g9Z9vI33t-kL",
        "colab": {
          "base_uri": "https://localhost:8080/",
          "height": 452
        },
        "outputId": "cacb6a47-9798-44ac-dc87-360730e31cb8"
      },
      "execution_count": 37,
      "outputs": [
        {
          "output_type": "execute_result",
          "data": {
            "text/plain": [
              "<matplotlib.image.AxesImage at 0x7ed28429d540>"
            ]
          },
          "metadata": {},
          "execution_count": 37
        },
        {
          "output_type": "display_data",
          "data": {
            "text/plain": [
              "<Figure size 640x480 with 1 Axes>"
            ],
            "image/png": "[encoded data removed]"
          },
          "metadata": {}
        }
      ]
    }
  ]
}